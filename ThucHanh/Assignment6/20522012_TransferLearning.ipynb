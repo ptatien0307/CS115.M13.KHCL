{
  "nbformat": 4,
  "nbformat_minor": 0,
  "metadata": {
    "colab": {
      "name": "20522012_TransferLearning",
      "provenance": [],
      "collapsed_sections": []
    },
    "kernelspec": {
      "name": "python3",
      "display_name": "Python 3"
    },
    "language_info": {
      "name": "python"
    },
    "accelerator": "GPU",
    "widgets": {
      "application/vnd.jupyter.widget-state+json": {
        "3c6c9fdd82084619830163719e3bec12": {
          "model_module": "@jupyter-widgets/controls",
          "model_name": "HBoxModel",
          "model_module_version": "1.5.0",
          "state": {
            "_view_name": "HBoxView",
            "_dom_classes": [],
            "_model_name": "HBoxModel",
            "_view_module": "@jupyter-widgets/controls",
            "_model_module_version": "1.5.0",
            "_view_count": null,
            "_view_module_version": "1.5.0",
            "box_style": "",
            "layout": "IPY_MODEL_1f070ed440cc4ace86ea9586dd2b234b",
            "_model_module": "@jupyter-widgets/controls",
            "children": [
              "IPY_MODEL_b8e70368dad14446ab7e3557e3ac00a5",
              "IPY_MODEL_033f218bd40f435b9cb59a1621ae162c",
              "IPY_MODEL_4f34ebc63d0c4387b78416871a286592"
            ]
          }
        },
        "1f070ed440cc4ace86ea9586dd2b234b": {
          "model_module": "@jupyter-widgets/base",
          "model_name": "LayoutModel",
          "model_module_version": "1.2.0",
          "state": {
            "_view_name": "LayoutView",
            "grid_template_rows": null,
            "right": null,
            "justify_content": null,
            "_view_module": "@jupyter-widgets/base",
            "overflow": null,
            "_model_module_version": "1.2.0",
            "_view_count": null,
            "flex_flow": null,
            "width": null,
            "min_width": null,
            "border": null,
            "align_items": null,
            "bottom": null,
            "_model_module": "@jupyter-widgets/base",
            "top": null,
            "grid_column": null,
            "overflow_y": null,
            "overflow_x": null,
            "grid_auto_flow": null,
            "grid_area": null,
            "grid_template_columns": null,
            "flex": null,
            "_model_name": "LayoutModel",
            "justify_items": null,
            "grid_row": null,
            "max_height": null,
            "align_content": null,
            "visibility": null,
            "align_self": null,
            "height": null,
            "min_height": null,
            "padding": null,
            "grid_auto_rows": null,
            "grid_gap": null,
            "max_width": null,
            "order": null,
            "_view_module_version": "1.2.0",
            "grid_template_areas": null,
            "object_position": null,
            "object_fit": null,
            "grid_auto_columns": null,
            "margin": null,
            "display": null,
            "left": null
          }
        },
        "b8e70368dad14446ab7e3557e3ac00a5": {
          "model_module": "@jupyter-widgets/controls",
          "model_name": "HTMLModel",
          "model_module_version": "1.5.0",
          "state": {
            "_view_name": "HTMLView",
            "style": "IPY_MODEL_a322fe2614a84811ab124e7b6c4df70f",
            "_dom_classes": [],
            "description": "",
            "_model_name": "HTMLModel",
            "placeholder": "​",
            "_view_module": "@jupyter-widgets/controls",
            "_model_module_version": "1.5.0",
            "value": "100%",
            "_view_count": null,
            "_view_module_version": "1.5.0",
            "description_tooltip": null,
            "_model_module": "@jupyter-widgets/controls",
            "layout": "IPY_MODEL_fc1be8a69ed94d59b53b2fccac9fb7b4"
          }
        },
        "033f218bd40f435b9cb59a1621ae162c": {
          "model_module": "@jupyter-widgets/controls",
          "model_name": "FloatProgressModel",
          "model_module_version": "1.5.0",
          "state": {
            "_view_name": "ProgressView",
            "style": "IPY_MODEL_dbed415ceb944c08922ef10b5f316b17",
            "_dom_classes": [],
            "description": "",
            "_model_name": "FloatProgressModel",
            "bar_style": "success",
            "max": 553433881,
            "_view_module": "@jupyter-widgets/controls",
            "_model_module_version": "1.5.0",
            "value": 553433881,
            "_view_count": null,
            "_view_module_version": "1.5.0",
            "orientation": "horizontal",
            "min": 0,
            "description_tooltip": null,
            "_model_module": "@jupyter-widgets/controls",
            "layout": "IPY_MODEL_e3736799fabb418880291f3231acb8c4"
          }
        },
        "4f34ebc63d0c4387b78416871a286592": {
          "model_module": "@jupyter-widgets/controls",
          "model_name": "HTMLModel",
          "model_module_version": "1.5.0",
          "state": {
            "_view_name": "HTMLView",
            "style": "IPY_MODEL_024f46186ae64ac58d1186a0f9597036",
            "_dom_classes": [],
            "description": "",
            "_model_name": "HTMLModel",
            "placeholder": "​",
            "_view_module": "@jupyter-widgets/controls",
            "_model_module_version": "1.5.0",
            "value": " 528M/528M [00:05&lt;00:00, 101MB/s]",
            "_view_count": null,
            "_view_module_version": "1.5.0",
            "description_tooltip": null,
            "_model_module": "@jupyter-widgets/controls",
            "layout": "IPY_MODEL_cbf88af349a646728b367196ec3b4c15"
          }
        },
        "a322fe2614a84811ab124e7b6c4df70f": {
          "model_module": "@jupyter-widgets/controls",
          "model_name": "DescriptionStyleModel",
          "model_module_version": "1.5.0",
          "state": {
            "_view_name": "StyleView",
            "_model_name": "DescriptionStyleModel",
            "description_width": "",
            "_view_module": "@jupyter-widgets/base",
            "_model_module_version": "1.5.0",
            "_view_count": null,
            "_view_module_version": "1.2.0",
            "_model_module": "@jupyter-widgets/controls"
          }
        },
        "fc1be8a69ed94d59b53b2fccac9fb7b4": {
          "model_module": "@jupyter-widgets/base",
          "model_name": "LayoutModel",
          "model_module_version": "1.2.0",
          "state": {
            "_view_name": "LayoutView",
            "grid_template_rows": null,
            "right": null,
            "justify_content": null,
            "_view_module": "@jupyter-widgets/base",
            "overflow": null,
            "_model_module_version": "1.2.0",
            "_view_count": null,
            "flex_flow": null,
            "width": null,
            "min_width": null,
            "border": null,
            "align_items": null,
            "bottom": null,
            "_model_module": "@jupyter-widgets/base",
            "top": null,
            "grid_column": null,
            "overflow_y": null,
            "overflow_x": null,
            "grid_auto_flow": null,
            "grid_area": null,
            "grid_template_columns": null,
            "flex": null,
            "_model_name": "LayoutModel",
            "justify_items": null,
            "grid_row": null,
            "max_height": null,
            "align_content": null,
            "visibility": null,
            "align_self": null,
            "height": null,
            "min_height": null,
            "padding": null,
            "grid_auto_rows": null,
            "grid_gap": null,
            "max_width": null,
            "order": null,
            "_view_module_version": "1.2.0",
            "grid_template_areas": null,
            "object_position": null,
            "object_fit": null,
            "grid_auto_columns": null,
            "margin": null,
            "display": null,
            "left": null
          }
        },
        "dbed415ceb944c08922ef10b5f316b17": {
          "model_module": "@jupyter-widgets/controls",
          "model_name": "ProgressStyleModel",
          "model_module_version": "1.5.0",
          "state": {
            "_view_name": "StyleView",
            "_model_name": "ProgressStyleModel",
            "description_width": "",
            "_view_module": "@jupyter-widgets/base",
            "_model_module_version": "1.5.0",
            "_view_count": null,
            "_view_module_version": "1.2.0",
            "bar_color": null,
            "_model_module": "@jupyter-widgets/controls"
          }
        },
        "e3736799fabb418880291f3231acb8c4": {
          "model_module": "@jupyter-widgets/base",
          "model_name": "LayoutModel",
          "model_module_version": "1.2.0",
          "state": {
            "_view_name": "LayoutView",
            "grid_template_rows": null,
            "right": null,
            "justify_content": null,
            "_view_module": "@jupyter-widgets/base",
            "overflow": null,
            "_model_module_version": "1.2.0",
            "_view_count": null,
            "flex_flow": null,
            "width": null,
            "min_width": null,
            "border": null,
            "align_items": null,
            "bottom": null,
            "_model_module": "@jupyter-widgets/base",
            "top": null,
            "grid_column": null,
            "overflow_y": null,
            "overflow_x": null,
            "grid_auto_flow": null,
            "grid_area": null,
            "grid_template_columns": null,
            "flex": null,
            "_model_name": "LayoutModel",
            "justify_items": null,
            "grid_row": null,
            "max_height": null,
            "align_content": null,
            "visibility": null,
            "align_self": null,
            "height": null,
            "min_height": null,
            "padding": null,
            "grid_auto_rows": null,
            "grid_gap": null,
            "max_width": null,
            "order": null,
            "_view_module_version": "1.2.0",
            "grid_template_areas": null,
            "object_position": null,
            "object_fit": null,
            "grid_auto_columns": null,
            "margin": null,
            "display": null,
            "left": null
          }
        },
        "024f46186ae64ac58d1186a0f9597036": {
          "model_module": "@jupyter-widgets/controls",
          "model_name": "DescriptionStyleModel",
          "model_module_version": "1.5.0",
          "state": {
            "_view_name": "StyleView",
            "_model_name": "DescriptionStyleModel",
            "description_width": "",
            "_view_module": "@jupyter-widgets/base",
            "_model_module_version": "1.5.0",
            "_view_count": null,
            "_view_module_version": "1.2.0",
            "_model_module": "@jupyter-widgets/controls"
          }
        },
        "cbf88af349a646728b367196ec3b4c15": {
          "model_module": "@jupyter-widgets/base",
          "model_name": "LayoutModel",
          "model_module_version": "1.2.0",
          "state": {
            "_view_name": "LayoutView",
            "grid_template_rows": null,
            "right": null,
            "justify_content": null,
            "_view_module": "@jupyter-widgets/base",
            "overflow": null,
            "_model_module_version": "1.2.0",
            "_view_count": null,
            "flex_flow": null,
            "width": null,
            "min_width": null,
            "border": null,
            "align_items": null,
            "bottom": null,
            "_model_module": "@jupyter-widgets/base",
            "top": null,
            "grid_column": null,
            "overflow_y": null,
            "overflow_x": null,
            "grid_auto_flow": null,
            "grid_area": null,
            "grid_template_columns": null,
            "flex": null,
            "_model_name": "LayoutModel",
            "justify_items": null,
            "grid_row": null,
            "max_height": null,
            "align_content": null,
            "visibility": null,
            "align_self": null,
            "height": null,
            "min_height": null,
            "padding": null,
            "grid_auto_rows": null,
            "grid_gap": null,
            "max_width": null,
            "order": null,
            "_view_module_version": "1.2.0",
            "grid_template_areas": null,
            "object_position": null,
            "object_fit": null,
            "grid_auto_columns": null,
            "margin": null,
            "display": null,
            "left": null
          }
        }
      }
    }
  },
  "cells": [
    {
      "cell_type": "code",
      "metadata": {
        "id": "CZFEowyX6dVZ"
      },
      "source": [
        "import numpy as np\n",
        "import random\n",
        "\n",
        "import torch\n",
        "from torch import nn\n",
        "from torch import optim\n",
        "from torchvision import datasets, transforms, models\n",
        "from torch.utils.data import DataLoader "
      ],
      "execution_count": null,
      "outputs": []
    },
    {
      "cell_type": "code",
      "metadata": {
        "id": "LTfN_TqE-nl8"
      },
      "source": [
        "# Set up for getting reproducibility of result\n",
        "random.seed(1)\n",
        "np.random.seed(1)\n",
        "torch.manual_seed(1)\n",
        "torch.backends.cudnn.deterministic = True\n",
        "torch.backends.cudnn.benchmark = False"
      ],
      "execution_count": null,
      "outputs": []
    },
    {
      "cell_type": "code",
      "metadata": {
        "id": "1CVkce3b-f1H",
        "colab": {
          "base_uri": "https://localhost:8080/"
        },
        "outputId": "6a3af8f3-38ac-4f78-a02e-221c0de7be33"
      },
      "source": [
        "device = torch.device('cuda' if torch.cuda.is_available() else 'cpu')\n",
        "device"
      ],
      "execution_count": null,
      "outputs": [
        {
          "output_type": "execute_result",
          "data": {
            "text/plain": [
              "device(type='cuda')"
            ]
          },
          "metadata": {},
          "execution_count": 4
        }
      ]
    },
    {
      "cell_type": "code",
      "metadata": {
        "id": "GP6c8-Bq-kxo"
      },
      "source": [
        "data_dir = '/content/drive/MyDrive/Datasets/Oxford Flower'\n",
        "train_dir = data_dir + '/train'\n",
        "valid_dir = data_dir + '/valid'\n",
        "test_dir = data_dir + '/test'"
      ],
      "execution_count": null,
      "outputs": []
    },
    {
      "cell_type": "code",
      "metadata": {
        "id": "WMZWyOpX-52x"
      },
      "source": [
        "# Define transformation\n",
        "transforms = transforms.Compose([\n",
        "                                 transforms.Resize(256),\n",
        "                                 transforms.CenterCrop(224),\n",
        "                                 transforms.ToTensor(),\n",
        "                                 transforms.Normalize([0.485, 0.456, 0.406],\n",
        "                                                                      [0.229, 0.224, 0.225])\n",
        "])\n",
        "\n",
        "# Load the datsets with ImageFolder\n",
        "train_dataset = datasets.ImageFolder(train_dir, transform=transforms)\n",
        "valid_dataset = datasets.ImageFolder(valid_dir, transform=transforms)\n",
        "test_dataset = datasets.ImageFolder(test_dir, transform=transforms)\n",
        "\n",
        "# Define DataLoader\n",
        "train_loader = DataLoader(dataset=train_dataset, batch_size=64, shuffle=True)\n",
        "valid_loader = DataLoader(dataset=valid_dataset, batch_size=32)\n",
        "test_loader = DataLoader(dataset=test_dataset, batch_size=32)"
      ],
      "execution_count": null,
      "outputs": []
    },
    {
      "cell_type": "code",
      "metadata": {
        "id": "8-ZvNN3L_6vF",
        "colab": {
          "base_uri": "https://localhost:8080/",
          "height": 848,
          "referenced_widgets": [
            "3c6c9fdd82084619830163719e3bec12",
            "1f070ed440cc4ace86ea9586dd2b234b",
            "b8e70368dad14446ab7e3557e3ac00a5",
            "033f218bd40f435b9cb59a1621ae162c",
            "4f34ebc63d0c4387b78416871a286592",
            "a322fe2614a84811ab124e7b6c4df70f",
            "fc1be8a69ed94d59b53b2fccac9fb7b4",
            "dbed415ceb944c08922ef10b5f316b17",
            "e3736799fabb418880291f3231acb8c4",
            "024f46186ae64ac58d1186a0f9597036",
            "cbf88af349a646728b367196ec3b4c15"
          ]
        },
        "outputId": "c429e1cc-0e7c-42f2-9f8e-c39bbc48fd23"
      },
      "source": [
        "# Load VGG-16 model\n",
        "model = models.vgg16(pretrained=True)\n",
        "model"
      ],
      "execution_count": null,
      "outputs": [
        {
          "output_type": "stream",
          "name": "stderr",
          "text": [
            "Downloading: \"https://download.pytorch.org/models/vgg16-397923af.pth\" to /root/.cache/torch/hub/checkpoints/vgg16-397923af.pth\n"
          ]
        },
        {
          "output_type": "display_data",
          "data": {
            "application/vnd.jupyter.widget-view+json": {
              "model_id": "3c6c9fdd82084619830163719e3bec12",
              "version_minor": 0,
              "version_major": 2
            },
            "text/plain": [
              "  0%|          | 0.00/528M [00:00<?, ?B/s]"
            ]
          },
          "metadata": {}
        },
        {
          "output_type": "execute_result",
          "data": {
            "text/plain": [
              "VGG(\n",
              "  (features): Sequential(\n",
              "    (0): Conv2d(3, 64, kernel_size=(3, 3), stride=(1, 1), padding=(1, 1))\n",
              "    (1): ReLU(inplace=True)\n",
              "    (2): Conv2d(64, 64, kernel_size=(3, 3), stride=(1, 1), padding=(1, 1))\n",
              "    (3): ReLU(inplace=True)\n",
              "    (4): MaxPool2d(kernel_size=2, stride=2, padding=0, dilation=1, ceil_mode=False)\n",
              "    (5): Conv2d(64, 128, kernel_size=(3, 3), stride=(1, 1), padding=(1, 1))\n",
              "    (6): ReLU(inplace=True)\n",
              "    (7): Conv2d(128, 128, kernel_size=(3, 3), stride=(1, 1), padding=(1, 1))\n",
              "    (8): ReLU(inplace=True)\n",
              "    (9): MaxPool2d(kernel_size=2, stride=2, padding=0, dilation=1, ceil_mode=False)\n",
              "    (10): Conv2d(128, 256, kernel_size=(3, 3), stride=(1, 1), padding=(1, 1))\n",
              "    (11): ReLU(inplace=True)\n",
              "    (12): Conv2d(256, 256, kernel_size=(3, 3), stride=(1, 1), padding=(1, 1))\n",
              "    (13): ReLU(inplace=True)\n",
              "    (14): Conv2d(256, 256, kernel_size=(3, 3), stride=(1, 1), padding=(1, 1))\n",
              "    (15): ReLU(inplace=True)\n",
              "    (16): MaxPool2d(kernel_size=2, stride=2, padding=0, dilation=1, ceil_mode=False)\n",
              "    (17): Conv2d(256, 512, kernel_size=(3, 3), stride=(1, 1), padding=(1, 1))\n",
              "    (18): ReLU(inplace=True)\n",
              "    (19): Conv2d(512, 512, kernel_size=(3, 3), stride=(1, 1), padding=(1, 1))\n",
              "    (20): ReLU(inplace=True)\n",
              "    (21): Conv2d(512, 512, kernel_size=(3, 3), stride=(1, 1), padding=(1, 1))\n",
              "    (22): ReLU(inplace=True)\n",
              "    (23): MaxPool2d(kernel_size=2, stride=2, padding=0, dilation=1, ceil_mode=False)\n",
              "    (24): Conv2d(512, 512, kernel_size=(3, 3), stride=(1, 1), padding=(1, 1))\n",
              "    (25): ReLU(inplace=True)\n",
              "    (26): Conv2d(512, 512, kernel_size=(3, 3), stride=(1, 1), padding=(1, 1))\n",
              "    (27): ReLU(inplace=True)\n",
              "    (28): Conv2d(512, 512, kernel_size=(3, 3), stride=(1, 1), padding=(1, 1))\n",
              "    (29): ReLU(inplace=True)\n",
              "    (30): MaxPool2d(kernel_size=2, stride=2, padding=0, dilation=1, ceil_mode=False)\n",
              "  )\n",
              "  (avgpool): AdaptiveAvgPool2d(output_size=(7, 7))\n",
              "  (classifier): Sequential(\n",
              "    (0): Linear(in_features=25088, out_features=4096, bias=True)\n",
              "    (1): ReLU(inplace=True)\n",
              "    (2): Dropout(p=0.5, inplace=False)\n",
              "    (3): Linear(in_features=4096, out_features=4096, bias=True)\n",
              "    (4): ReLU(inplace=True)\n",
              "    (5): Dropout(p=0.5, inplace=False)\n",
              "    (6): Linear(in_features=4096, out_features=1000, bias=True)\n",
              "  )\n",
              ")"
            ]
          },
          "metadata": {},
          "execution_count": 7
        }
      ]
    },
    {
      "cell_type": "code",
      "metadata": {
        "id": "RwH0mTg9AOHL",
        "colab": {
          "base_uri": "https://localhost:8080/"
        },
        "outputId": "199b3bf7-a198-4bb8-9b7e-8ad9ea3fe854"
      },
      "source": [
        "# Freeze pretrained model parameters\n",
        "for parameter in model.parameters():\n",
        "  parameter.requires_grad = False\n",
        "\n",
        "# Build custom classifier\n",
        "classifier = nn.Sequential(\n",
        "    nn.Linear(25088, 4096),\n",
        "    nn.ReLU(inplace=True),\n",
        "    nn.Dropout(p=0.5, inplace=False),\n",
        "    nn.Linear(4096, 4096),\n",
        "    nn.ReLU(inplace=True),\n",
        "    nn.Dropout(p=0.5, inplace=False),\n",
        "    nn.Linear(4096, 102),\n",
        "    nn.LogSoftmax(dim=1)\n",
        ")\n",
        "\n",
        "model.classifier = classifier\n",
        "model"
      ],
      "execution_count": null,
      "outputs": [
        {
          "output_type": "execute_result",
          "data": {
            "text/plain": [
              "VGG(\n",
              "  (features): Sequential(\n",
              "    (0): Conv2d(3, 64, kernel_size=(3, 3), stride=(1, 1), padding=(1, 1))\n",
              "    (1): ReLU(inplace=True)\n",
              "    (2): Conv2d(64, 64, kernel_size=(3, 3), stride=(1, 1), padding=(1, 1))\n",
              "    (3): ReLU(inplace=True)\n",
              "    (4): MaxPool2d(kernel_size=2, stride=2, padding=0, dilation=1, ceil_mode=False)\n",
              "    (5): Conv2d(64, 128, kernel_size=(3, 3), stride=(1, 1), padding=(1, 1))\n",
              "    (6): ReLU(inplace=True)\n",
              "    (7): Conv2d(128, 128, kernel_size=(3, 3), stride=(1, 1), padding=(1, 1))\n",
              "    (8): ReLU(inplace=True)\n",
              "    (9): MaxPool2d(kernel_size=2, stride=2, padding=0, dilation=1, ceil_mode=False)\n",
              "    (10): Conv2d(128, 256, kernel_size=(3, 3), stride=(1, 1), padding=(1, 1))\n",
              "    (11): ReLU(inplace=True)\n",
              "    (12): Conv2d(256, 256, kernel_size=(3, 3), stride=(1, 1), padding=(1, 1))\n",
              "    (13): ReLU(inplace=True)\n",
              "    (14): Conv2d(256, 256, kernel_size=(3, 3), stride=(1, 1), padding=(1, 1))\n",
              "    (15): ReLU(inplace=True)\n",
              "    (16): MaxPool2d(kernel_size=2, stride=2, padding=0, dilation=1, ceil_mode=False)\n",
              "    (17): Conv2d(256, 512, kernel_size=(3, 3), stride=(1, 1), padding=(1, 1))\n",
              "    (18): ReLU(inplace=True)\n",
              "    (19): Conv2d(512, 512, kernel_size=(3, 3), stride=(1, 1), padding=(1, 1))\n",
              "    (20): ReLU(inplace=True)\n",
              "    (21): Conv2d(512, 512, kernel_size=(3, 3), stride=(1, 1), padding=(1, 1))\n",
              "    (22): ReLU(inplace=True)\n",
              "    (23): MaxPool2d(kernel_size=2, stride=2, padding=0, dilation=1, ceil_mode=False)\n",
              "    (24): Conv2d(512, 512, kernel_size=(3, 3), stride=(1, 1), padding=(1, 1))\n",
              "    (25): ReLU(inplace=True)\n",
              "    (26): Conv2d(512, 512, kernel_size=(3, 3), stride=(1, 1), padding=(1, 1))\n",
              "    (27): ReLU(inplace=True)\n",
              "    (28): Conv2d(512, 512, kernel_size=(3, 3), stride=(1, 1), padding=(1, 1))\n",
              "    (29): ReLU(inplace=True)\n",
              "    (30): MaxPool2d(kernel_size=2, stride=2, padding=0, dilation=1, ceil_mode=False)\n",
              "  )\n",
              "  (avgpool): AdaptiveAvgPool2d(output_size=(7, 7))\n",
              "  (classifier): Sequential(\n",
              "    (0): Linear(in_features=25088, out_features=4096, bias=True)\n",
              "    (1): ReLU(inplace=True)\n",
              "    (2): Dropout(p=0.5, inplace=False)\n",
              "    (3): Linear(in_features=4096, out_features=4096, bias=True)\n",
              "    (4): ReLU(inplace=True)\n",
              "    (5): Dropout(p=0.5, inplace=False)\n",
              "    (6): Linear(in_features=4096, out_features=102, bias=True)\n",
              "    (7): LogSoftmax(dim=1)\n",
              "  )\n",
              ")"
            ]
          },
          "metadata": {},
          "execution_count": 8
        }
      ]
    },
    {
      "cell_type": "code",
      "metadata": {
        "id": "X06YXBtgApcv"
      },
      "source": [
        "criterion = nn.NLLLoss()\n",
        "optimizer = optim.Adam(model.classifier.parameters(), lr=0.001)"
      ],
      "execution_count": null,
      "outputs": []
    },
    {
      "cell_type": "code",
      "metadata": {
        "id": "JjAhXXCfBEPw"
      },
      "source": [
        "def validation(model, valid_loader, criterion):\n",
        "    val_loss = 0\n",
        "    accuracy = 0\n",
        "\n",
        "    for images, labels in iter(valid_loader):\n",
        "\n",
        "        images = images.to(device)\n",
        "        labels = labels.to(device)\n",
        "\n",
        "        output = model(images)\n",
        "\n",
        "        val_loss += criterion(output, labels).item()\n",
        "\n",
        "        probabilities = torch.exp(output)\n",
        "\n",
        "        equality = (labels.data == probabilities.max(dim=1)[1])\n",
        "        accuracy += equality.type(torch.FloatTensor).mean()\n",
        "    return val_loss, accuracy"
      ],
      "execution_count": null,
      "outputs": []
    },
    {
      "cell_type": "code",
      "metadata": {
        "id": "EpN5BsueB_Em"
      },
      "source": [
        "import time\n",
        "\n",
        "def train_model():\n",
        "    max_epoch = 10\n",
        "    print_every = 20\n",
        "    n_steps = 0\n",
        "    model.to(device)\n",
        "\n",
        "    start_train = time.time()\n",
        "    for n_epochs in range(max_epoch):\n",
        "        print(f' - Epoch {n_epochs+1}')\n",
        "        start_epoch = time.time()\n",
        "        model.train()\n",
        "\n",
        "        epoch_loss = 0\n",
        "\n",
        "        for batch_idx, (images, labels) in enumerate(train_loader):\n",
        "            images = images.to(device)\n",
        "            labels = labels.to(device)\n",
        "\n",
        "            optimizer.zero_grad()\n",
        "\n",
        "            output = model.forward(images)\n",
        "\n",
        "            loss = criterion(output, labels)\n",
        "            loss.backward()\n",
        "\n",
        "            optimizer.step()\n",
        "\n",
        "            epoch_loss += loss.item()\n",
        "\n",
        "            if n_steps % print_every == 0:\n",
        "                model.eval()\n",
        "\n",
        "                with torch.no_grad():\n",
        "                    valid_loss, accuracy = validation(model, valid_loader, criterion)\n",
        "\n",
        "                print(f'Batch: {batch_idx}/{len(train_loader)}..  '\n",
        "                         f'Training Loss: {epoch_loss/print_every:.3f}..  ',\n",
        "                         f'Validation Loss: {valid_loss/len(valid_loader):.3f}..  ',\n",
        "                         f'Validation Accuracy: {accuracy/len(valid_loader):.3f}')\n",
        "\n",
        "                epoch_loss = 0\n",
        "                model.train()\n",
        "            n_steps += 1\n",
        "        end_epoch = time.time()\n",
        "        print(f'--> Epoch {n_epochs + 1} costs {end_epoch - start_epoch} seconds')\n",
        "    end_train = time.time()\n",
        "    print(f'Training time: {end_train - start_train}')\n"
      ],
      "execution_count": null,
      "outputs": []
    },
    {
      "cell_type": "code",
      "source": [
        "train_model()"
      ],
      "metadata": {
        "colab": {
          "base_uri": "https://localhost:8080/"
        },
        "id": "kZs5TkXJuRIV",
        "outputId": "c7d398b8-27bd-4a53-e06c-1e8a9826de4e"
      },
      "execution_count": null,
      "outputs": [
        {
          "output_type": "stream",
          "name": "stdout",
          "text": [
            " - Epoch 1\n",
            "Batch: 0/103..  Training Loss: 0.076..   Validation Loss: 1.343..   Validation Accuracy: 0.641\n",
            "Batch: 20/103..  Training Loss: 1.462..   Validation Loss: 1.051..   Validation Accuracy: 0.733\n",
            "Batch: 40/103..  Training Loss: 1.401..   Validation Loss: 1.021..   Validation Accuracy: 0.736\n",
            "Batch: 60/103..  Training Loss: 1.366..   Validation Loss: 0.832..   Validation Accuracy: 0.778\n",
            "Batch: 80/103..  Training Loss: 1.292..   Validation Loss: 0.864..   Validation Accuracy: 0.782\n",
            "Batch: 100/103..  Training Loss: 1.361..   Validation Loss: 0.879..   Validation Accuracy: 0.748\n",
            "--> Epoch 1 costs 889.367359161377 seconds\n",
            " - Epoch 2\n",
            "Batch: 17/103..  Training Loss: 0.708..   Validation Loss: 0.788..   Validation Accuracy: 0.795\n",
            "Batch: 37/103..  Training Loss: 0.782..   Validation Loss: 0.851..   Validation Accuracy: 0.779\n",
            "Batch: 57/103..  Training Loss: 0.884..   Validation Loss: 0.879..   Validation Accuracy: 0.767\n",
            "Batch: 77/103..  Training Loss: 0.887..   Validation Loss: 0.742..   Validation Accuracy: 0.821\n",
            "Batch: 97/103..  Training Loss: 0.992..   Validation Loss: 0.868..   Validation Accuracy: 0.800\n",
            "--> Epoch 2 costs 387.44343280792236 seconds\n",
            " - Epoch 3\n",
            "Batch: 14/103..  Training Loss: 0.639..   Validation Loss: 0.923..   Validation Accuracy: 0.774\n",
            "Batch: 34/103..  Training Loss: 0.824..   Validation Loss: 0.827..   Validation Accuracy: 0.803\n",
            "Batch: 54/103..  Training Loss: 0.763..   Validation Loss: 0.839..   Validation Accuracy: 0.802\n",
            "Batch: 74/103..  Training Loss: 0.833..   Validation Loss: 0.912..   Validation Accuracy: 0.780\n",
            "Batch: 94/103..  Training Loss: 0.837..   Validation Loss: 0.825..   Validation Accuracy: 0.822\n",
            "--> Epoch 3 costs 387.7581536769867 seconds\n",
            " - Epoch 4\n",
            "Batch: 11/103..  Training Loss: 0.397..   Validation Loss: 0.783..   Validation Accuracy: 0.813\n",
            "Batch: 31/103..  Training Loss: 0.928..   Validation Loss: 0.910..   Validation Accuracy: 0.810\n",
            "Batch: 51/103..  Training Loss: 0.822..   Validation Loss: 0.855..   Validation Accuracy: 0.826\n",
            "Batch: 71/103..  Training Loss: 0.780..   Validation Loss: 0.874..   Validation Accuracy: 0.798\n",
            "Batch: 91/103..  Training Loss: 0.856..   Validation Loss: 0.954..   Validation Accuracy: 0.803\n",
            "--> Epoch 4 costs 388.23988366127014 seconds\n",
            " - Epoch 5\n",
            "Batch: 8/103..  Training Loss: 0.431..   Validation Loss: 1.208..   Validation Accuracy: 0.797\n",
            "Batch: 28/103..  Training Loss: 0.959..   Validation Loss: 1.027..   Validation Accuracy: 0.795\n",
            "Batch: 48/103..  Training Loss: 0.927..   Validation Loss: 1.000..   Validation Accuracy: 0.791\n",
            "Batch: 68/103..  Training Loss: 0.963..   Validation Loss: 1.165..   Validation Accuracy: 0.792\n",
            "Batch: 88/103..  Training Loss: 1.081..   Validation Loss: 1.160..   Validation Accuracy: 0.784\n",
            "--> Epoch 5 costs 388.8679778575897 seconds\n",
            " - Epoch 6\n",
            "Batch: 5/103..  Training Loss: 0.373..   Validation Loss: 1.285..   Validation Accuracy: 0.779\n",
            "Batch: 25/103..  Training Loss: 1.028..   Validation Loss: 1.078..   Validation Accuracy: 0.802\n",
            "Batch: 45/103..  Training Loss: 1.018..   Validation Loss: 1.044..   Validation Accuracy: 0.811\n",
            "Batch: 65/103..  Training Loss: 1.239..   Validation Loss: 1.058..   Validation Accuracy: 0.835\n",
            "Batch: 85/103..  Training Loss: 1.021..   Validation Loss: 0.991..   Validation Accuracy: 0.815\n",
            "--> Epoch 6 costs 387.6830749511719 seconds\n",
            " - Epoch 7\n",
            "Batch: 2/103..  Training Loss: 0.111..   Validation Loss: 1.039..   Validation Accuracy: 0.808\n",
            "Batch: 22/103..  Training Loss: 1.063..   Validation Loss: 1.146..   Validation Accuracy: 0.814\n",
            "Batch: 42/103..  Training Loss: 0.975..   Validation Loss: 1.301..   Validation Accuracy: 0.803\n",
            "Batch: 62/103..  Training Loss: 1.281..   Validation Loss: 1.038..   Validation Accuracy: 0.833\n",
            "Batch: 82/103..  Training Loss: 1.153..   Validation Loss: 1.311..   Validation Accuracy: 0.818\n",
            "Batch: 102/103..  Training Loss: 1.270..   Validation Loss: 1.241..   Validation Accuracy: 0.816\n",
            "--> Epoch 7 costs 415.8741419315338 seconds\n",
            " - Epoch 8\n",
            "Batch: 19/103..  Training Loss: 1.253..   Validation Loss: 1.168..   Validation Accuracy: 0.839\n",
            "Batch: 39/103..  Training Loss: 1.177..   Validation Loss: 1.199..   Validation Accuracy: 0.801\n",
            "Batch: 59/103..  Training Loss: 1.232..   Validation Loss: 1.246..   Validation Accuracy: 0.816\n",
            "Batch: 79/103..  Training Loss: 1.218..   Validation Loss: 1.322..   Validation Accuracy: 0.827\n",
            "Batch: 99/103..  Training Loss: 1.055..   Validation Loss: 1.341..   Validation Accuracy: 0.820\n",
            "--> Epoch 8 costs 383.40250039100647 seconds\n",
            " - Epoch 9\n",
            "Batch: 16/103..  Training Loss: 0.964..   Validation Loss: 1.579..   Validation Accuracy: 0.807\n",
            "Batch: 36/103..  Training Loss: 1.210..   Validation Loss: 1.259..   Validation Accuracy: 0.819\n",
            "Batch: 56/103..  Training Loss: 1.232..   Validation Loss: 1.299..   Validation Accuracy: 0.814\n",
            "Batch: 76/103..  Training Loss: 1.022..   Validation Loss: 1.139..   Validation Accuracy: 0.839\n",
            "Batch: 96/103..  Training Loss: 1.106..   Validation Loss: 1.265..   Validation Accuracy: 0.833\n",
            "--> Epoch 9 costs 382.157075881958 seconds\n",
            " - Epoch 10\n",
            "Batch: 13/103..  Training Loss: 0.695..   Validation Loss: 1.511..   Validation Accuracy: 0.823\n",
            "Batch: 33/103..  Training Loss: 1.193..   Validation Loss: 1.395..   Validation Accuracy: 0.814\n",
            "Batch: 53/103..  Training Loss: 1.231..   Validation Loss: 1.527..   Validation Accuracy: 0.823\n",
            "Batch: 73/103..  Training Loss: 1.117..   Validation Loss: 1.364..   Validation Accuracy: 0.819\n",
            "Batch: 93/103..  Training Loss: 1.001..   Validation Loss: 1.600..   Validation Accuracy: 0.817\n",
            "--> Epoch 10 costs 380.8533248901367 seconds\n",
            "Training time: 4391.654516458511\n"
          ]
        }
      ]
    },
    {
      "cell_type": "code",
      "metadata": {
        "id": "c65Ty4cSGOnl"
      },
      "source": [
        "def save_checkpoint(model):\n",
        "\n",
        "    model.class_to_idx = train_dataset.class_to_idx\n",
        "\n",
        "    checkpoint = {'arch': 'vgg16',\n",
        "                            'class_to_idx': model.class_to_idx,\n",
        "                            'model_state_dict': model.state_dict()\n",
        "    }\n",
        "    torch.save(checkpoint, '/content/drive/MyDrive/Colab Notebooks/Assignment/checkpoint.pth')"
      ],
      "execution_count": null,
      "outputs": []
    },
    {
      "cell_type": "code",
      "source": [
        "save_checkpoint(model)"
      ],
      "metadata": {
        "id": "-QfY7MpJuPLi"
      },
      "execution_count": null,
      "outputs": []
    },
    {
      "cell_type": "code",
      "metadata": {
        "id": "XCG2kz9PGuU6"
      },
      "source": [
        "def test_model(model, test_loader):\n",
        "    model.eval()\n",
        "    model.to(device)\n",
        "\n",
        "    with torch.no_grad():\n",
        "        accuracy = 0\n",
        "        for images, labels in iter(test_loader):\n",
        "            images = images.to(device)\n",
        "            labels = labels.to(device)\n",
        "\n",
        "            output = model(images)\n",
        "\n",
        "           \n",
        "\n",
        "            probabilities = torch.exp(output)\n",
        "\n",
        "            equality = (labels.data == probabilities.max(dim=1)[1])\n",
        "            accuracy += equality.type(torch.FloatTensor).mean()\n",
        "        print(f'Test Accuracy: {accuracy/len(test_loader)}')"
      ],
      "execution_count": null,
      "outputs": []
    },
    {
      "cell_type": "code",
      "metadata": {
        "id": "SYcX9vOqJBRi",
        "colab": {
          "base_uri": "https://localhost:8080/"
        },
        "outputId": "aa68ddee-b15b-459a-e32e-223ddb8941e8"
      },
      "source": [
        "test_model(model, test_loader)"
      ],
      "execution_count": null,
      "outputs": [
        {
          "output_type": "stream",
          "name": "stdout",
          "text": [
            "Test Accuracy: 0.7823253870010376\n"
          ]
        }
      ]
    },
    {
      "cell_type": "code",
      "source": [
        "!nvidia-smi"
      ],
      "metadata": {
        "colab": {
          "base_uri": "https://localhost:8080/"
        },
        "id": "FnEaLtpRH5gD",
        "outputId": "c1ac94bf-6401-474f-8783-56151c32b5a2"
      },
      "execution_count": null,
      "outputs": [
        {
          "output_type": "stream",
          "name": "stdout",
          "text": [
            "Tue Dec 14 04:12:05 2021       \n",
            "+-----------------------------------------------------------------------------+\n",
            "| NVIDIA-SMI 495.44       Driver Version: 460.32.03    CUDA Version: 11.2     |\n",
            "|-------------------------------+----------------------+----------------------+\n",
            "| GPU  Name        Persistence-M| Bus-Id        Disp.A | Volatile Uncorr. ECC |\n",
            "| Fan  Temp  Perf  Pwr:Usage/Cap|         Memory-Usage | GPU-Util  Compute M. |\n",
            "|                               |                      |               MIG M. |\n",
            "|===============================+======================+======================|\n",
            "|   0  Tesla K80           Off  | 00000000:00:04.0 Off |                    0 |\n",
            "| N/A   72C    P0    73W / 149W |   5024MiB / 11441MiB |      0%      Default |\n",
            "|                               |                      |                  N/A |\n",
            "+-------------------------------+----------------------+----------------------+\n",
            "                                                                               \n",
            "+-----------------------------------------------------------------------------+\n",
            "| Processes:                                                                  |\n",
            "|  GPU   GI   CI        PID   Type   Process name                  GPU Memory |\n",
            "|        ID   ID                                                   Usage      |\n",
            "|=============================================================================|\n",
            "|  No running processes found                                                 |\n",
            "+-----------------------------------------------------------------------------+\n"
          ]
        }
      ]
    },
    {
      "cell_type": "code",
      "source": [
        ""
      ],
      "metadata": {
        "id": "MEcwes2NI-Gb"
      },
      "execution_count": null,
      "outputs": []
    }
  ]
}