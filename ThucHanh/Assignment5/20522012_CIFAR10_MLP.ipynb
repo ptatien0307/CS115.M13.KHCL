{
  "nbformat": 4,
  "nbformat_minor": 0,
  "metadata": {
    "colab": {
      "name": "CIFAR-10_MLP",
      "provenance": [],
      "collapsed_sections": []
    },
    "kernelspec": {
      "name": "python3",
      "display_name": "Python 3"
    },
    "language_info": {
      "name": "python"
    },
    "accelerator": "GPU"
  },
  "cells": [
    {
      "cell_type": "code",
      "metadata": {
        "id": "wM6tnt2Pp-qn"
      },
      "source": [
        "import random\n",
        "import numpy as np\n",
        "import matplotlib.pyplot as plt\n",
        "\n",
        "\n",
        "import torch\n",
        "import torch.nn as nn\n",
        "\n",
        "import torch.optim as optim \n",
        "from torch.utils.data import DataLoader \n",
        "import torchvision.datasets as datasets\n",
        "import torchvision.transforms as transforms"
      ],
      "execution_count": 3,
      "outputs": []
    },
    {
      "cell_type": "code",
      "metadata": {
        "id": "jrF4-fgNqI2h",
        "colab": {
          "base_uri": "https://localhost:8080/"
        },
        "outputId": "c8eaff4d-4454-4501-a476-5cd9fb778138"
      },
      "source": [
        "device = torch.device('cuda' if torch.cuda.is_available() else 'cpu')\n",
        "device"
      ],
      "execution_count": 4,
      "outputs": [
        {
          "output_type": "execute_result",
          "data": {
            "text/plain": [
              "device(type='cuda')"
            ]
          },
          "metadata": {},
          "execution_count": 4
        }
      ]
    },
    {
      "cell_type": "code",
      "metadata": {
        "id": "rnKTM044qLIQ"
      },
      "source": [
        "# Set up for getting reproducibility of result\n",
        "random.seed(1)\n",
        "np.random.seed(1)\n",
        "torch.manual_seed(1)\n",
        "torch.backends.cudnn.deterministic = True\n",
        "torch.backends.cudnn.benchmark = False"
      ],
      "execution_count": 5,
      "outputs": []
    },
    {
      "cell_type": "code",
      "metadata": {
        "id": "Y883LA4yqMW2"
      },
      "source": [
        "# Hyperparameters\n",
        "input_size = 3 * 32 * 32\n",
        "n_classes = 10\n",
        "learning_rate = 0.001\n",
        "batch_size = 64\n",
        "n_epochs = 50"
      ],
      "execution_count": 6,
      "outputs": []
    },
    {
      "cell_type": "code",
      "metadata": {
        "id": "mo8l_UC3qNk5"
      },
      "source": [
        "# Load CIFAR10 dataset\n",
        "train_dataset = datasets.CIFAR10(root='/content/drive/MyDrive/Datasets/CIFAR10', train=True, \n",
        "                                                       transform=transforms.ToTensor(), download=False)\n",
        "\n",
        "train_loader = DataLoader(dataset=train_dataset, batch_size=batch_size, shuffle=False)\n",
        "\n",
        "test_dataset = datasets.CIFAR10(root='/content/drive/MyDrive/Datasets/CIFAR10', train=False, \n",
        "                                                    transform=transforms.ToTensor(), download=False)\n",
        "\n",
        "test_loader = DataLoader(dataset=test_dataset, batch_size=batch_size, shuffle=True)"
      ],
      "execution_count": 7,
      "outputs": []
    },
    {
      "cell_type": "code",
      "metadata": {
        "colab": {
          "base_uri": "https://localhost:8080/"
        },
        "id": "ZGL1DeFw37G-",
        "outputId": "f6c8e923-5424-47f2-a213-cf0ab4ce4729"
      },
      "source": [
        "train_dataset"
      ],
      "execution_count": 8,
      "outputs": [
        {
          "output_type": "execute_result",
          "data": {
            "text/plain": [
              "Dataset CIFAR10\n",
              "    Number of datapoints: 50000\n",
              "    Root location: /content/drive/MyDrive/Datasets/CIFAR10\n",
              "    Split: Train\n",
              "    StandardTransform\n",
              "Transform: ToTensor()"
            ]
          },
          "metadata": {},
          "execution_count": 8
        }
      ]
    },
    {
      "cell_type": "code",
      "metadata": {
        "colab": {
          "base_uri": "https://localhost:8080/"
        },
        "id": "0hErmjWC38oK",
        "outputId": "98a5787f-92e9-4e95-c082-1d0d36d0ae60"
      },
      "source": [
        "test_dataset"
      ],
      "execution_count": 9,
      "outputs": [
        {
          "output_type": "execute_result",
          "data": {
            "text/plain": [
              "Dataset CIFAR10\n",
              "    Number of datapoints: 10000\n",
              "    Root location: /content/drive/MyDrive/Datasets/CIFAR10\n",
              "    Split: Test\n",
              "    StandardTransform\n",
              "Transform: ToTensor()"
            ]
          },
          "metadata": {},
          "execution_count": 9
        }
      ]
    },
    {
      "cell_type": "code",
      "metadata": {
        "id": "dD-46IgtqPo0",
        "colab": {
          "base_uri": "https://localhost:8080/",
          "height": 264
        },
        "outputId": "7f0ca36e-d242-4b3e-98c2-670eec07be17"
      },
      "source": [
        "classes =['airplane', 'automobile', 'bird', 'cat', 'deer', 'dog', 'frog', 'horse', 'ship', 'truck']\n",
        "for i in range(6):\n",
        "    image, label = train_dataset[i]\n",
        "    plt.subplot(2,3,i+1)\n",
        "    plt.title(classes[label])\n",
        "    plt.axis('off')\n",
        "    plt.imshow(image.permute(1,2,0), cmap='gray')\n"
      ],
      "execution_count": 18,
      "outputs": [
        {
          "output_type": "display_data",
          "data": {
            "image/png": "[encoded data removed]",
            "text/plain": [
              "<Figure size 432x288 with 6 Axes>"
            ]
          },
          "metadata": {
            "needs_background": "light"
          }
        }
      ]
    },
    {
      "cell_type": "code",
      "metadata": {
        "id": "aNIhZKEOqQzJ"
      },
      "source": [
        "class MLP(nn.Module):\n",
        "  def __init__(self, input_size, n_classes):\n",
        "    super().__init__()\n",
        "    self.model = nn.Sequential(\n",
        "        nn.Linear(in_features=input_size, out_features=1024),\n",
        "        nn.ReLU(),\n",
        "        nn.Linear(in_features=1024, out_features=512),\n",
        "        nn.ReLU(),\n",
        "        nn.Linear(in_features=512, out_features=256),\n",
        "        nn.ReLU(),\n",
        "        nn.Linear(in_features=256, out_features=64),\n",
        "        nn.ReLU(),\n",
        "        nn.Linear(in_features=64, out_features=n_classes),\n",
        "        nn.Softmax(dim=1)\n",
        "    )\n",
        "\n",
        "  def forward(self, X):\n",
        "    prob = self.model(X)\n",
        "    return prob\n"
      ],
      "execution_count": null,
      "outputs": []
    },
    {
      "cell_type": "code",
      "metadata": {
        "id": "UykKZPUMqSE2",
        "colab": {
          "base_uri": "https://localhost:8080/"
        },
        "outputId": "3d94873c-f702-4fd8-8dd4-0affe82dce4f"
      },
      "source": [
        "model = MLP(input_size=input_size, n_classes=n_classes).to(device)\n",
        "model"
      ],
      "execution_count": null,
      "outputs": [
        {
          "output_type": "execute_result",
          "data": {
            "text/plain": [
              "MLP(\n",
              "  (model): Sequential(\n",
              "    (0): Linear(in_features=3072, out_features=1024, bias=True)\n",
              "    (1): ReLU()\n",
              "    (2): Linear(in_features=1024, out_features=512, bias=True)\n",
              "    (3): ReLU()\n",
              "    (4): Linear(in_features=512, out_features=256, bias=True)\n",
              "    (5): ReLU()\n",
              "    (6): Linear(in_features=256, out_features=64, bias=True)\n",
              "    (7): ReLU()\n",
              "    (8): Linear(in_features=64, out_features=10, bias=True)\n",
              "    (9): Softmax(dim=1)\n",
              "  )\n",
              ")"
            ]
          },
          "metadata": {},
          "execution_count": 36
        }
      ]
    },
    {
      "cell_type": "code",
      "metadata": {
        "id": "3HuNshaxqTD7"
      },
      "source": [
        "criterion = nn.CrossEntropyLoss()\n",
        "optimizer = optim.Adam(model.parameters(), lr=learning_rate)"
      ],
      "execution_count": null,
      "outputs": []
    },
    {
      "cell_type": "code",
      "metadata": {
        "id": "oBm-jvwpqUP9",
        "colab": {
          "base_uri": "https://localhost:8080/"
        },
        "outputId": "a8af7554-9695-4e10-9d7a-2dff64a4019f"
      },
      "source": [
        "for epoch in range(n_epochs):\n",
        "  for batch_idx, (images, labels) in enumerate(train_loader):\n",
        "    # Get data to GPU\n",
        "    images = images.to(device)\n",
        "    labels = labels.to(device)\n",
        "\n",
        "    # Reshape\n",
        "    images = images.reshape(images.shape[0], -1)\n",
        "\n",
        "    # Forward pass\n",
        "    z_scores = model(images)\n",
        "    loss = criterion(z_scores, labels)\n",
        "\n",
        "    # Backward pass\n",
        "    optimizer.zero_grad()\n",
        "    loss.backward()\n",
        "\n",
        "    # Gradient descent\n",
        "    optimizer.step()\n",
        "\n",
        "    if(batch_idx + 1) % 100 == 0:\n",
        "      print(f'Epoch {epoch+1}/{n_epochs}, Batch {batch_idx+1}, Loss: {loss.item():.4f}')"
      ],
      "execution_count": null,
      "outputs": [
        {
          "output_type": "stream",
          "name": "stdout",
          "text": [
            "Epoch 1/50, Batch 100, Loss: 2.2170\n",
            "Epoch 1/50, Batch 200, Loss: 2.2323\n",
            "Epoch 1/50, Batch 300, Loss: 2.1394\n",
            "Epoch 1/50, Batch 400, Loss: 2.2219\n",
            "Epoch 1/50, Batch 500, Loss: 2.2086\n",
            "Epoch 1/50, Batch 600, Loss: 2.1606\n",
            "Epoch 1/50, Batch 700, Loss: 2.1741\n",
            "Epoch 2/50, Batch 100, Loss: 2.1472\n",
            "Epoch 2/50, Batch 200, Loss: 2.1634\n",
            "Epoch 2/50, Batch 300, Loss: 2.1775\n",
            "Epoch 2/50, Batch 400, Loss: 2.1516\n",
            "Epoch 2/50, Batch 500, Loss: 2.1095\n",
            "Epoch 2/50, Batch 600, Loss: 2.1108\n",
            "Epoch 2/50, Batch 700, Loss: 2.1466\n",
            "Epoch 3/50, Batch 100, Loss: 2.0731\n",
            "Epoch 3/50, Batch 200, Loss: 2.1527\n",
            "Epoch 3/50, Batch 300, Loss: 2.0559\n",
            "Epoch 3/50, Batch 400, Loss: 2.0761\n",
            "Epoch 3/50, Batch 500, Loss: 2.0831\n",
            "Epoch 3/50, Batch 600, Loss: 2.0766\n",
            "Epoch 3/50, Batch 700, Loss: 2.0686\n",
            "Epoch 4/50, Batch 100, Loss: 2.1024\n",
            "Epoch 4/50, Batch 200, Loss: 2.1914\n",
            "Epoch 4/50, Batch 300, Loss: 2.0495\n",
            "Epoch 4/50, Batch 400, Loss: 2.1604\n",
            "Epoch 4/50, Batch 500, Loss: 2.1742\n",
            "Epoch 4/50, Batch 600, Loss: 2.1070\n",
            "Epoch 4/50, Batch 700, Loss: 2.1320\n",
            "Epoch 5/50, Batch 100, Loss: 2.0975\n",
            "Epoch 5/50, Batch 200, Loss: 2.1527\n",
            "Epoch 5/50, Batch 300, Loss: 2.0072\n",
            "Epoch 5/50, Batch 400, Loss: 2.1007\n",
            "Epoch 5/50, Batch 500, Loss: 2.0882\n",
            "Epoch 5/50, Batch 600, Loss: 2.0933\n",
            "Epoch 5/50, Batch 700, Loss: 2.0940\n",
            "Epoch 6/50, Batch 100, Loss: 2.0367\n",
            "Epoch 6/50, Batch 200, Loss: 2.1593\n",
            "Epoch 6/50, Batch 300, Loss: 2.0303\n",
            "Epoch 6/50, Batch 400, Loss: 2.0471\n",
            "Epoch 6/50, Batch 500, Loss: 2.0097\n",
            "Epoch 6/50, Batch 600, Loss: 2.1735\n",
            "Epoch 6/50, Batch 700, Loss: 2.1461\n",
            "Epoch 7/50, Batch 100, Loss: 2.0998\n",
            "Epoch 7/50, Batch 200, Loss: 2.1304\n",
            "Epoch 7/50, Batch 300, Loss: 2.0492\n",
            "Epoch 7/50, Batch 400, Loss: 1.9809\n",
            "Epoch 7/50, Batch 500, Loss: 2.0158\n",
            "Epoch 7/50, Batch 600, Loss: 2.1410\n",
            "Epoch 7/50, Batch 700, Loss: 2.0822\n",
            "Epoch 8/50, Batch 100, Loss: 2.0468\n",
            "Epoch 8/50, Batch 200, Loss: 2.1277\n",
            "Epoch 8/50, Batch 300, Loss: 2.0874\n",
            "Epoch 8/50, Batch 400, Loss: 2.0433\n",
            "Epoch 8/50, Batch 500, Loss: 2.0204\n",
            "Epoch 8/50, Batch 600, Loss: 2.0649\n",
            "Epoch 8/50, Batch 700, Loss: 2.0761\n",
            "Epoch 9/50, Batch 100, Loss: 2.0526\n",
            "Epoch 9/50, Batch 200, Loss: 2.1068\n",
            "Epoch 9/50, Batch 300, Loss: 2.0343\n",
            "Epoch 9/50, Batch 400, Loss: 2.0727\n",
            "Epoch 9/50, Batch 500, Loss: 1.9930\n",
            "Epoch 9/50, Batch 600, Loss: 2.0750\n",
            "Epoch 9/50, Batch 700, Loss: 2.1416\n",
            "Epoch 10/50, Batch 100, Loss: 2.0084\n",
            "Epoch 10/50, Batch 200, Loss: 2.1382\n",
            "Epoch 10/50, Batch 300, Loss: 2.0201\n",
            "Epoch 10/50, Batch 400, Loss: 2.0472\n",
            "Epoch 10/50, Batch 500, Loss: 2.0618\n",
            "Epoch 10/50, Batch 600, Loss: 2.0476\n",
            "Epoch 10/50, Batch 700, Loss: 2.0576\n",
            "Epoch 11/50, Batch 100, Loss: 2.0280\n",
            "Epoch 11/50, Batch 200, Loss: 2.1199\n",
            "Epoch 11/50, Batch 300, Loss: 2.0085\n",
            "Epoch 11/50, Batch 400, Loss: 2.0318\n",
            "Epoch 11/50, Batch 500, Loss: 1.9927\n",
            "Epoch 11/50, Batch 600, Loss: 2.0303\n",
            "Epoch 11/50, Batch 700, Loss: 2.0290\n",
            "Epoch 12/50, Batch 100, Loss: 2.0657\n",
            "Epoch 12/50, Batch 200, Loss: 2.0919\n",
            "Epoch 12/50, Batch 300, Loss: 1.9686\n",
            "Epoch 12/50, Batch 400, Loss: 2.0239\n",
            "Epoch 12/50, Batch 500, Loss: 1.9922\n",
            "Epoch 12/50, Batch 600, Loss: 2.0573\n",
            "Epoch 12/50, Batch 700, Loss: 2.0361\n",
            "Epoch 13/50, Batch 100, Loss: 1.9863\n",
            "Epoch 13/50, Batch 200, Loss: 2.0990\n",
            "Epoch 13/50, Batch 300, Loss: 2.0130\n",
            "Epoch 13/50, Batch 400, Loss: 2.0090\n",
            "Epoch 13/50, Batch 500, Loss: 2.0044\n",
            "Epoch 13/50, Batch 600, Loss: 2.1156\n",
            "Epoch 13/50, Batch 700, Loss: 2.0423\n",
            "Epoch 14/50, Batch 100, Loss: 2.0153\n",
            "Epoch 14/50, Batch 200, Loss: 2.0725\n",
            "Epoch 14/50, Batch 300, Loss: 2.0220\n",
            "Epoch 14/50, Batch 400, Loss: 1.9926\n",
            "Epoch 14/50, Batch 500, Loss: 1.9484\n",
            "Epoch 14/50, Batch 600, Loss: 2.1477\n",
            "Epoch 14/50, Batch 700, Loss: 2.0833\n",
            "Epoch 15/50, Batch 100, Loss: 2.0061\n",
            "Epoch 15/50, Batch 200, Loss: 2.0516\n",
            "Epoch 15/50, Batch 300, Loss: 2.0363\n",
            "Epoch 15/50, Batch 400, Loss: 2.0047\n",
            "Epoch 15/50, Batch 500, Loss: 2.0516\n",
            "Epoch 15/50, Batch 600, Loss: 2.0965\n",
            "Epoch 15/50, Batch 700, Loss: 2.0801\n",
            "Epoch 16/50, Batch 100, Loss: 1.9941\n",
            "Epoch 16/50, Batch 200, Loss: 2.0991\n",
            "Epoch 16/50, Batch 300, Loss: 1.9790\n",
            "Epoch 16/50, Batch 400, Loss: 1.9827\n",
            "Epoch 16/50, Batch 500, Loss: 1.9624\n",
            "Epoch 16/50, Batch 600, Loss: 2.1137\n",
            "Epoch 16/50, Batch 700, Loss: 1.9566\n",
            "Epoch 17/50, Batch 100, Loss: 2.0561\n",
            "Epoch 17/50, Batch 200, Loss: 2.0748\n",
            "Epoch 17/50, Batch 300, Loss: 2.0542\n",
            "Epoch 17/50, Batch 400, Loss: 2.0183\n",
            "Epoch 17/50, Batch 500, Loss: 1.9716\n",
            "Epoch 17/50, Batch 600, Loss: 2.1581\n",
            "Epoch 17/50, Batch 700, Loss: 2.1466\n",
            "Epoch 18/50, Batch 100, Loss: 2.0293\n",
            "Epoch 18/50, Batch 200, Loss: 2.0621\n",
            "Epoch 18/50, Batch 300, Loss: 2.0195\n",
            "Epoch 18/50, Batch 400, Loss: 2.0642\n",
            "Epoch 18/50, Batch 500, Loss: 1.9631\n",
            "Epoch 18/50, Batch 600, Loss: 2.1321\n",
            "Epoch 18/50, Batch 700, Loss: 2.0217\n",
            "Epoch 19/50, Batch 100, Loss: 2.0052\n",
            "Epoch 19/50, Batch 200, Loss: 2.0625\n",
            "Epoch 19/50, Batch 300, Loss: 2.0027\n",
            "Epoch 19/50, Batch 400, Loss: 2.0040\n",
            "Epoch 19/50, Batch 500, Loss: 1.9816\n",
            "Epoch 19/50, Batch 600, Loss: 2.0861\n",
            "Epoch 19/50, Batch 700, Loss: 2.0369\n",
            "Epoch 20/50, Batch 100, Loss: 2.0161\n",
            "Epoch 20/50, Batch 200, Loss: 2.0824\n",
            "Epoch 20/50, Batch 300, Loss: 2.0336\n",
            "Epoch 20/50, Batch 400, Loss: 2.0795\n",
            "Epoch 20/50, Batch 500, Loss: 1.9709\n",
            "Epoch 20/50, Batch 600, Loss: 2.0978\n",
            "Epoch 20/50, Batch 700, Loss: 2.0776\n",
            "Epoch 21/50, Batch 100, Loss: 2.0109\n",
            "Epoch 21/50, Batch 200, Loss: 2.0246\n",
            "Epoch 21/50, Batch 300, Loss: 1.9901\n",
            "Epoch 21/50, Batch 400, Loss: 2.0354\n",
            "Epoch 21/50, Batch 500, Loss: 2.0236\n",
            "Epoch 21/50, Batch 600, Loss: 2.0599\n",
            "Epoch 21/50, Batch 700, Loss: 2.0929\n",
            "Epoch 22/50, Batch 100, Loss: 2.0033\n",
            "Epoch 22/50, Batch 200, Loss: 2.0453\n",
            "Epoch 22/50, Batch 300, Loss: 2.1063\n",
            "Epoch 22/50, Batch 400, Loss: 1.9800\n",
            "Epoch 22/50, Batch 500, Loss: 1.9005\n",
            "Epoch 22/50, Batch 600, Loss: 2.0917\n",
            "Epoch 22/50, Batch 700, Loss: 2.0748\n",
            "Epoch 23/50, Batch 100, Loss: 2.0337\n",
            "Epoch 23/50, Batch 200, Loss: 2.1023\n",
            "Epoch 23/50, Batch 300, Loss: 2.0050\n",
            "Epoch 23/50, Batch 400, Loss: 1.9600\n",
            "Epoch 23/50, Batch 500, Loss: 1.9784\n",
            "Epoch 23/50, Batch 600, Loss: 2.0518\n",
            "Epoch 23/50, Batch 700, Loss: 2.0821\n",
            "Epoch 24/50, Batch 100, Loss: 2.0387\n",
            "Epoch 24/50, Batch 200, Loss: 2.0896\n",
            "Epoch 24/50, Batch 300, Loss: 2.0711\n",
            "Epoch 24/50, Batch 400, Loss: 1.9898\n",
            "Epoch 24/50, Batch 500, Loss: 1.9165\n",
            "Epoch 24/50, Batch 600, Loss: 2.0751\n",
            "Epoch 24/50, Batch 700, Loss: 2.0518\n",
            "Epoch 25/50, Batch 100, Loss: 2.0065\n",
            "Epoch 25/50, Batch 200, Loss: 2.0475\n",
            "Epoch 25/50, Batch 300, Loss: 2.0085\n",
            "Epoch 25/50, Batch 400, Loss: 2.0329\n",
            "Epoch 25/50, Batch 500, Loss: 1.9367\n",
            "Epoch 25/50, Batch 600, Loss: 2.0517\n",
            "Epoch 25/50, Batch 700, Loss: 2.0589\n",
            "Epoch 26/50, Batch 100, Loss: 1.9745\n",
            "Epoch 26/50, Batch 200, Loss: 2.1425\n",
            "Epoch 26/50, Batch 300, Loss: 2.0517\n",
            "Epoch 26/50, Batch 400, Loss: 2.0303\n",
            "Epoch 26/50, Batch 500, Loss: 1.9679\n",
            "Epoch 26/50, Batch 600, Loss: 2.1122\n",
            "Epoch 26/50, Batch 700, Loss: 2.0090\n",
            "Epoch 27/50, Batch 100, Loss: 2.0420\n",
            "Epoch 27/50, Batch 200, Loss: 2.0598\n",
            "Epoch 27/50, Batch 300, Loss: 2.0577\n",
            "Epoch 27/50, Batch 400, Loss: 2.0293\n",
            "Epoch 27/50, Batch 500, Loss: 2.0050\n",
            "Epoch 27/50, Batch 600, Loss: 2.0772\n",
            "Epoch 27/50, Batch 700, Loss: 2.0194\n",
            "Epoch 28/50, Batch 100, Loss: 1.9932\n",
            "Epoch 28/50, Batch 200, Loss: 2.0574\n",
            "Epoch 28/50, Batch 300, Loss: 2.0429\n",
            "Epoch 28/50, Batch 400, Loss: 1.9966\n",
            "Epoch 28/50, Batch 500, Loss: 1.9008\n",
            "Epoch 28/50, Batch 600, Loss: 2.0717\n",
            "Epoch 28/50, Batch 700, Loss: 2.0389\n",
            "Epoch 29/50, Batch 100, Loss: 2.0020\n",
            "Epoch 29/50, Batch 200, Loss: 2.0241\n",
            "Epoch 29/50, Batch 300, Loss: 2.0001\n",
            "Epoch 29/50, Batch 400, Loss: 1.9780\n",
            "Epoch 29/50, Batch 500, Loss: 1.9016\n",
            "Epoch 29/50, Batch 600, Loss: 2.0916\n",
            "Epoch 29/50, Batch 700, Loss: 1.9851\n",
            "Epoch 30/50, Batch 100, Loss: 2.0210\n",
            "Epoch 30/50, Batch 200, Loss: 1.9894\n",
            "Epoch 30/50, Batch 300, Loss: 2.0051\n",
            "Epoch 30/50, Batch 400, Loss: 1.9850\n",
            "Epoch 30/50, Batch 500, Loss: 1.9752\n",
            "Epoch 30/50, Batch 600, Loss: 2.0453\n",
            "Epoch 30/50, Batch 700, Loss: 1.9782\n",
            "Epoch 31/50, Batch 100, Loss: 2.0246\n",
            "Epoch 31/50, Batch 200, Loss: 2.0279\n",
            "Epoch 31/50, Batch 300, Loss: 2.0661\n",
            "Epoch 31/50, Batch 400, Loss: 1.9520\n",
            "Epoch 31/50, Batch 500, Loss: 1.9157\n",
            "Epoch 31/50, Batch 600, Loss: 2.1064\n",
            "Epoch 31/50, Batch 700, Loss: 2.0312\n",
            "Epoch 32/50, Batch 100, Loss: 1.9589\n",
            "Epoch 32/50, Batch 200, Loss: 2.0073\n",
            "Epoch 32/50, Batch 300, Loss: 2.0533\n",
            "Epoch 32/50, Batch 400, Loss: 2.0069\n",
            "Epoch 32/50, Batch 500, Loss: 1.9161\n",
            "Epoch 32/50, Batch 600, Loss: 2.1240\n",
            "Epoch 32/50, Batch 700, Loss: 2.0680\n",
            "Epoch 33/50, Batch 100, Loss: 1.9750\n",
            "Epoch 33/50, Batch 200, Loss: 2.1036\n",
            "Epoch 33/50, Batch 300, Loss: 2.0308\n",
            "Epoch 33/50, Batch 400, Loss: 2.0879\n",
            "Epoch 33/50, Batch 500, Loss: 1.9039\n",
            "Epoch 33/50, Batch 600, Loss: 2.0909\n",
            "Epoch 33/50, Batch 700, Loss: 2.0545\n",
            "Epoch 34/50, Batch 100, Loss: 1.9632\n",
            "Epoch 34/50, Batch 200, Loss: 2.0884\n",
            "Epoch 34/50, Batch 300, Loss: 1.9831\n",
            "Epoch 34/50, Batch 400, Loss: 1.9892\n",
            "Epoch 34/50, Batch 500, Loss: 1.9469\n",
            "Epoch 34/50, Batch 600, Loss: 2.0671\n",
            "Epoch 34/50, Batch 700, Loss: 1.9961\n",
            "Epoch 35/50, Batch 100, Loss: 2.0270\n",
            "Epoch 35/50, Batch 200, Loss: 2.0382\n",
            "Epoch 35/50, Batch 300, Loss: 2.0459\n",
            "Epoch 35/50, Batch 400, Loss: 2.0064\n",
            "Epoch 35/50, Batch 500, Loss: 1.9577\n",
            "Epoch 35/50, Batch 600, Loss: 2.1397\n",
            "Epoch 35/50, Batch 700, Loss: 2.0454\n",
            "Epoch 36/50, Batch 100, Loss: 1.9886\n",
            "Epoch 36/50, Batch 200, Loss: 2.0813\n",
            "Epoch 36/50, Batch 300, Loss: 2.0654\n",
            "Epoch 36/50, Batch 400, Loss: 1.9835\n",
            "Epoch 36/50, Batch 500, Loss: 1.9439\n",
            "Epoch 36/50, Batch 600, Loss: 2.0173\n",
            "Epoch 36/50, Batch 700, Loss: 2.0572\n",
            "Epoch 37/50, Batch 100, Loss: 1.9763\n",
            "Epoch 37/50, Batch 200, Loss: 2.0675\n",
            "Epoch 37/50, Batch 300, Loss: 2.0209\n",
            "Epoch 37/50, Batch 400, Loss: 2.0915\n",
            "Epoch 37/50, Batch 500, Loss: 1.9322\n",
            "Epoch 37/50, Batch 600, Loss: 2.1356\n",
            "Epoch 37/50, Batch 700, Loss: 2.0079\n",
            "Epoch 38/50, Batch 100, Loss: 2.0270\n",
            "Epoch 38/50, Batch 200, Loss: 2.0812\n",
            "Epoch 38/50, Batch 300, Loss: 1.9761\n",
            "Epoch 38/50, Batch 400, Loss: 1.9461\n",
            "Epoch 38/50, Batch 500, Loss: 1.9759\n",
            "Epoch 38/50, Batch 600, Loss: 2.0863\n",
            "Epoch 38/50, Batch 700, Loss: 2.0069\n",
            "Epoch 39/50, Batch 100, Loss: 2.0137\n",
            "Epoch 39/50, Batch 200, Loss: 2.0753\n",
            "Epoch 39/50, Batch 300, Loss: 2.0411\n",
            "Epoch 39/50, Batch 400, Loss: 1.9629\n",
            "Epoch 39/50, Batch 500, Loss: 1.8896\n",
            "Epoch 39/50, Batch 600, Loss: 2.0902\n",
            "Epoch 39/50, Batch 700, Loss: 1.9877\n",
            "Epoch 40/50, Batch 100, Loss: 2.0264\n",
            "Epoch 40/50, Batch 200, Loss: 1.9982\n",
            "Epoch 40/50, Batch 300, Loss: 1.9753\n",
            "Epoch 40/50, Batch 400, Loss: 2.0349\n",
            "Epoch 40/50, Batch 500, Loss: 2.0552\n",
            "Epoch 40/50, Batch 600, Loss: 2.1348\n",
            "Epoch 40/50, Batch 700, Loss: 2.0066\n",
            "Epoch 41/50, Batch 100, Loss: 2.0351\n",
            "Epoch 41/50, Batch 200, Loss: 2.0709\n",
            "Epoch 41/50, Batch 300, Loss: 2.0125\n",
            "Epoch 41/50, Batch 400, Loss: 1.9819\n",
            "Epoch 41/50, Batch 500, Loss: 1.9561\n",
            "Epoch 41/50, Batch 600, Loss: 2.1115\n",
            "Epoch 41/50, Batch 700, Loss: 2.0444\n",
            "Epoch 42/50, Batch 100, Loss: 1.9952\n",
            "Epoch 42/50, Batch 200, Loss: 2.0317\n",
            "Epoch 42/50, Batch 300, Loss: 2.1125\n",
            "Epoch 42/50, Batch 400, Loss: 2.0212\n",
            "Epoch 42/50, Batch 500, Loss: 1.8935\n",
            "Epoch 42/50, Batch 600, Loss: 2.2015\n",
            "Epoch 42/50, Batch 700, Loss: 2.0623\n",
            "Epoch 43/50, Batch 100, Loss: 2.0454\n",
            "Epoch 43/50, Batch 200, Loss: 1.9940\n",
            "Epoch 43/50, Batch 300, Loss: 1.9650\n",
            "Epoch 43/50, Batch 400, Loss: 1.9987\n",
            "Epoch 43/50, Batch 500, Loss: 1.9273\n",
            "Epoch 43/50, Batch 600, Loss: 2.1073\n",
            "Epoch 43/50, Batch 700, Loss: 1.9675\n",
            "Epoch 44/50, Batch 100, Loss: 1.9953\n",
            "Epoch 44/50, Batch 200, Loss: 2.0456\n",
            "Epoch 44/50, Batch 300, Loss: 2.0879\n",
            "Epoch 44/50, Batch 400, Loss: 1.9178\n",
            "Epoch 44/50, Batch 500, Loss: 2.0122\n",
            "Epoch 44/50, Batch 600, Loss: 2.1657\n",
            "Epoch 44/50, Batch 700, Loss: 2.0184\n",
            "Epoch 45/50, Batch 100, Loss: 1.9597\n",
            "Epoch 45/50, Batch 200, Loss: 2.0846\n",
            "Epoch 45/50, Batch 300, Loss: 2.0374\n",
            "Epoch 45/50, Batch 400, Loss: 1.9714\n",
            "Epoch 45/50, Batch 500, Loss: 1.9648\n",
            "Epoch 45/50, Batch 600, Loss: 2.0593\n",
            "Epoch 45/50, Batch 700, Loss: 2.0188\n",
            "Epoch 46/50, Batch 100, Loss: 2.0313\n",
            "Epoch 46/50, Batch 200, Loss: 2.0636\n",
            "Epoch 46/50, Batch 300, Loss: 2.0758\n",
            "Epoch 46/50, Batch 400, Loss: 2.0754\n",
            "Epoch 46/50, Batch 500, Loss: 1.9568\n",
            "Epoch 46/50, Batch 600, Loss: 2.1212\n",
            "Epoch 46/50, Batch 700, Loss: 1.9717\n",
            "Epoch 47/50, Batch 100, Loss: 1.9719\n",
            "Epoch 47/50, Batch 200, Loss: 2.1055\n",
            "Epoch 47/50, Batch 300, Loss: 2.0241\n",
            "Epoch 47/50, Batch 400, Loss: 1.9736\n",
            "Epoch 47/50, Batch 500, Loss: 1.9210\n",
            "Epoch 47/50, Batch 600, Loss: 2.0295\n",
            "Epoch 47/50, Batch 700, Loss: 2.0234\n",
            "Epoch 48/50, Batch 100, Loss: 1.9542\n",
            "Epoch 48/50, Batch 200, Loss: 2.0320\n",
            "Epoch 48/50, Batch 300, Loss: 2.0371\n",
            "Epoch 48/50, Batch 400, Loss: 2.0166\n",
            "Epoch 48/50, Batch 500, Loss: 1.8993\n",
            "Epoch 48/50, Batch 600, Loss: 2.0722\n",
            "Epoch 48/50, Batch 700, Loss: 2.0458\n",
            "Epoch 49/50, Batch 100, Loss: 2.0443\n",
            "Epoch 49/50, Batch 200, Loss: 2.0518\n",
            "Epoch 49/50, Batch 300, Loss: 2.0429\n",
            "Epoch 49/50, Batch 400, Loss: 2.0043\n",
            "Epoch 49/50, Batch 500, Loss: 1.9612\n",
            "Epoch 49/50, Batch 600, Loss: 2.0429\n",
            "Epoch 49/50, Batch 700, Loss: 1.9823\n",
            "Epoch 50/50, Batch 100, Loss: 2.0090\n",
            "Epoch 50/50, Batch 200, Loss: 2.0744\n",
            "Epoch 50/50, Batch 300, Loss: 2.0620\n",
            "Epoch 50/50, Batch 400, Loss: 2.0136\n",
            "Epoch 50/50, Batch 500, Loss: 1.8633\n",
            "Epoch 50/50, Batch 600, Loss: 2.0632\n",
            "Epoch 50/50, Batch 700, Loss: 2.0400\n"
          ]
        }
      ]
    },
    {
      "cell_type": "code",
      "metadata": {
        "id": "H3EjCAbmqVXl"
      },
      "source": [
        "def get_accuracy(loader, model):\n",
        "  if loader.dataset.train:\n",
        "    print('Getting accuracy on trainning data')\n",
        "  else:\n",
        "    print('Getting accuracy on testing data')\n",
        "\n",
        "  n_corrects = 0\n",
        "  n_samples = 0\n",
        "\n",
        "  # Put model to evalution mode\n",
        "  model.eval()\n",
        "\n",
        "  with torch.no_grad():\n",
        "    for images, labels in loader:\n",
        "      images = images.to(device)\n",
        "      labels = labels.to(device)\n",
        "\n",
        "      images = images.reshape(images.shape[0], -1)\n",
        "\n",
        "      z_scores = model(images)\n",
        "\n",
        "      _, y_pred = z_scores.max(1)\n",
        "      n_corrects += (y_pred == labels).sum()\n",
        "      n_samples += y_pred.size(0)\n",
        "\n",
        "    print(f'We got {n_corrects}/{n_samples} correct')\n",
        "    print(f'Accuracy =  {float(n_corrects) / float(n_samples)*100.0:.2f}')\n",
        "  # Put model to train mode\n",
        "  model.train()"
      ],
      "execution_count": null,
      "outputs": []
    },
    {
      "cell_type": "code",
      "metadata": {
        "id": "wSJTUX14qWjn",
        "colab": {
          "base_uri": "https://localhost:8080/"
        },
        "outputId": "2f530a0e-ace6-4151-d5b0-77cbbc1514d6"
      },
      "source": [
        "get_accuracy(train_loader, model)\n",
        "get_accuracy(test_loader, model)"
      ],
      "execution_count": null,
      "outputs": [
        {
          "output_type": "stream",
          "name": "stdout",
          "text": [
            "Getting accuracy on trainning data\n",
            "We got 21635/50000 correct\n",
            "Accuracy =  43.27\n",
            "Getting accuracy on testing data\n",
            "We got 4230/10000 correct\n",
            "Accuracy =  42.30\n"
          ]
        }
      ]
    },
    {
      "cell_type": "code",
      "metadata": {
        "id": "mBQSuIAwT0eg"
      },
      "source": [
        ""
      ],
      "execution_count": null,
      "outputs": []
    }
  ]
}