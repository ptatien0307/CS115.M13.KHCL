{
  "nbformat": 4,
  "nbformat_minor": 0,
  "metadata": {
    "colab": {
      "name": "Fashion_MNIST_MLP",
      "provenance": [],
      "collapsed_sections": []
    },
    "kernelspec": {
      "name": "python3",
      "display_name": "Python 3"
    },
    "language_info": {
      "name": "python"
    },
    "accelerator": "GPU"
  },
  "cells": [
    {
      "cell_type": "code",
      "metadata": {
        "id": "wM6tnt2Pp-qn"
      },
      "source": [
        "import random\n",
        "import numpy as np\n",
        "import matplotlib.pyplot as plt\n",
        "\n",
        "import torch\n",
        "import torch.nn as nn\n",
        "\n",
        "import torch.optim as optim \n",
        "from torch.utils.data import DataLoader \n",
        "import torchvision.datasets as datasets \n",
        "import torchvision.transforms as transforms "
      ],
      "execution_count": 2,
      "outputs": []
    },
    {
      "cell_type": "code",
      "metadata": {
        "colab": {
          "base_uri": "https://localhost:8080/"
        },
        "id": "jrF4-fgNqI2h",
        "outputId": "45b011c6-cfed-46ee-852c-bb1dc580ac4c"
      },
      "source": [
        "device = torch.device('cuda' if torch.cuda.is_available() else 'cpu')\n",
        "device"
      ],
      "execution_count": 3,
      "outputs": [
        {
          "output_type": "execute_result",
          "data": {
            "text/plain": [
              "device(type='cuda')"
            ]
          },
          "metadata": {},
          "execution_count": 3
        }
      ]
    },
    {
      "cell_type": "code",
      "metadata": {
        "id": "rnKTM044qLIQ"
      },
      "source": [
        "# Set up for getting reproducibility of result\n",
        "random.seed(1)\n",
        "np.random.seed(1)\n",
        "torch.manual_seed(1)\n",
        "torch.backends.cudnn.deterministic = True\n",
        "torch.backends.cudnn.benchmark = False"
      ],
      "execution_count": 4,
      "outputs": []
    },
    {
      "cell_type": "code",
      "metadata": {
        "id": "Y883LA4yqMW2"
      },
      "source": [
        "# Hyperparameters\n",
        "input_size = 784\n",
        "n_classes = 10\n",
        "learning_rate = 0.001\n",
        "batch_size = 64\n",
        "n_epochs = 50"
      ],
      "execution_count": 5,
      "outputs": []
    },
    {
      "cell_type": "code",
      "metadata": {
        "id": "mo8l_UC3qNk5"
      },
      "source": [
        "# Load 'MNIST' dataset\n",
        "train_dataset = datasets.FashionMNIST(root='/content/drive/MyDrive/Datasets/FashionMNIST', train=True, \n",
        "                                                                 transform=transforms.ToTensor(), download=False)\n",
        "\n",
        "train_loader = DataLoader(dataset=train_dataset, batch_size=batch_size, shuffle=True)\n",
        "\n",
        "test_dataset = datasets.FashionMNIST(root='/content/drive/MyDrive/Datasets/FashionMNIST', train=False, \n",
        "                                                               transform=transforms.ToTensor(), download=False)\n",
        "\n",
        "test_loader = DataLoader(dataset=test_dataset, batch_size=batch_size, shuffle=True)"
      ],
      "execution_count": 9,
      "outputs": []
    },
    {
      "cell_type": "code",
      "metadata": {
        "colab": {
          "base_uri": "https://localhost:8080/"
        },
        "id": "ZGL1DeFw37G-",
        "outputId": "e74fd445-eab1-40cf-f155-62566fef07f1"
      },
      "source": [
        "train_dataset"
      ],
      "execution_count": 10,
      "outputs": [
        {
          "output_type": "execute_result",
          "data": {
            "text/plain": [
              "Dataset FashionMNIST\n",
              "    Number of datapoints: 60000\n",
              "    Root location: /content/drive/MyDrive/Datasets/FashionMNIST\n",
              "    Split: Train\n",
              "    StandardTransform\n",
              "Transform: ToTensor()"
            ]
          },
          "metadata": {},
          "execution_count": 10
        }
      ]
    },
    {
      "cell_type": "code",
      "metadata": {
        "colab": {
          "base_uri": "https://localhost:8080/"
        },
        "id": "0hErmjWC38oK",
        "outputId": "3bd65f0f-1df1-40f9-e463-70ff87912247"
      },
      "source": [
        "test_dataset"
      ],
      "execution_count": 11,
      "outputs": [
        {
          "output_type": "execute_result",
          "data": {
            "text/plain": [
              "Dataset FashionMNIST\n",
              "    Number of datapoints: 10000\n",
              "    Root location: /content/drive/MyDrive/Datasets/FashionMNIST\n",
              "    Split: Test\n",
              "    StandardTransform\n",
              "Transform: ToTensor()"
            ]
          },
          "metadata": {},
          "execution_count": 11
        }
      ]
    },
    {
      "cell_type": "code",
      "source": [
        "classes = ['T-shirt', 'Trouser','Pullover', 'Dress', 'Coat', 'Sandal', 'Shirt', 'Sneaker', 'Bag', 'Ankle boot']"
      ],
      "metadata": {
        "id": "zQnTsDFiI9WX"
      },
      "execution_count": 15,
      "outputs": []
    },
    {
      "cell_type": "code",
      "source": [
        "for i in range(6):\n",
        "    image, label = train_dataset[i]\n",
        "    plt.subplot(2,3,i+1)\n",
        "    plt.title(classes[label])\n",
        "    plt.axis('off')\n",
        "    plt.imshow(image.squeeze(), cmap='gray')"
      ],
      "metadata": {
        "colab": {
          "base_uri": "https://localhost:8080/",
          "height": 264
        },
        "id": "izTKzJdUIJQU",
        "outputId": "eb0d4ee6-900d-4f95-8da5-59a3261063ec"
      },
      "execution_count": 19,
      "outputs": [
        {
          "output_type": "display_data",
          "data": {
            "image/png": "[encoded data removed]",
            "text/plain": [
              "<Figure size 432x288 with 6 Axes>"
            ]
          },
          "metadata": {
            "needs_background": "light"
          }
        }
      ]
    },
    {
      "cell_type": "code",
      "metadata": {
        "id": "aNIhZKEOqQzJ"
      },
      "source": [
        "class MLP(nn.Module):\n",
        "    def __init__(self, input_size, n_classes):\n",
        "        super().__init__()\n",
        "        self.model = nn.Sequential(\n",
        "            nn.Linear(in_features=input_size, out_features=100),\n",
        "            nn.ReLU(),\n",
        "            nn.Linear(in_features=100, out_features=100),\n",
        "            nn.ReLU(),\n",
        "            nn.Linear(in_features=100, out_features=50),\n",
        "            nn.ReLU(),\n",
        "            nn.Linear(in_features=50, out_features=25),\n",
        "            nn.ReLU(),\n",
        "            nn.Linear(in_features=25, out_features=n_classes),\n",
        "            nn.Softmax(dim=1)\n",
        "        )\n",
        "\n",
        "    def forward(self, X):\n",
        "        prob = self.model(X)\n",
        "        return prob\n"
      ],
      "execution_count": null,
      "outputs": []
    },
    {
      "cell_type": "code",
      "metadata": {
        "id": "UykKZPUMqSE2",
        "colab": {
          "base_uri": "https://localhost:8080/"
        },
        "outputId": "e59847a2-a88a-4db0-f354-4c8bda46a1d7"
      },
      "source": [
        "model = MLP(input_size=input_size, n_classes=n_classes).to(device)\n",
        "model"
      ],
      "execution_count": null,
      "outputs": [
        {
          "output_type": "execute_result",
          "data": {
            "text/plain": [
              "MLP(\n",
              "  (model): Sequential(\n",
              "    (0): Linear(in_features=784, out_features=100, bias=True)\n",
              "    (1): ReLU()\n",
              "    (2): Linear(in_features=100, out_features=100, bias=True)\n",
              "    (3): ReLU()\n",
              "    (4): Linear(in_features=100, out_features=50, bias=True)\n",
              "    (5): ReLU()\n",
              "    (6): Linear(in_features=50, out_features=25, bias=True)\n",
              "    (7): ReLU()\n",
              "    (8): Linear(in_features=25, out_features=10, bias=True)\n",
              "    (9): Softmax(dim=1)\n",
              "  )\n",
              ")"
            ]
          },
          "metadata": {},
          "execution_count": 16
        }
      ]
    },
    {
      "cell_type": "code",
      "metadata": {
        "id": "3HuNshaxqTD7"
      },
      "source": [
        "criterion = nn.CrossEntropyLoss()\n",
        "optimizer = optim.Adam(model.parameters(), lr=learning_rate)"
      ],
      "execution_count": null,
      "outputs": []
    },
    {
      "cell_type": "code",
      "metadata": {
        "id": "oBm-jvwpqUP9"
      },
      "source": [
        "for epoch in range(n_epochs):\n",
        "    for batch_idx, (images, labels) in enumerate(train_loader):\n",
        "        # Get data to GPU\n",
        "        images = images.to(device)\n",
        "        labels = labels.to(device)\n",
        "\n",
        "        # Reshape\n",
        "        images = images.reshape(images.shape[0], -1)\n",
        "\n",
        "        # Forward pass\n",
        "        z_scores = model(images)\n",
        "        loss = criterion(z_scores, labels)\n",
        "\n",
        "        # Backward pass\n",
        "        optimizer.zero_grad()\n",
        "        loss.backward()\n",
        "\n",
        "        # Gradient descent\n",
        "        optimizer.step()\n",
        "\n",
        "        if(batch_idx + 1) % 100 == 0:\n",
        "            print(f'Epoch {epoch+1}/{n_epochs}, Batch {batch_idx+1}, Loss: {loss.item():.4f}')"
      ],
      "execution_count": null,
      "outputs": []
    },
    {
      "cell_type": "code",
      "metadata": {
        "id": "H3EjCAbmqVXl"
      },
      "source": [
        "def get_accuracy(loader, model):\n",
        "    if loader.dataset.train:\n",
        "        print('Getting accuracy on trainning data')\n",
        "    else:\n",
        "        print('Getting accuracy on testing data')\n",
        "\n",
        "    n_corrects = 0\n",
        "    n_samples = 0\n",
        "\n",
        "    # Put model to evalution mode\n",
        "    model.eval()\n",
        "\n",
        "    with torch.no_grad():\n",
        "        for images, labels in loader:\n",
        "        images = images.to(device)\n",
        "        labels = labels.to(device)\n",
        "\n",
        "        images = images.reshape(images.shape[0], -1)\n",
        "\n",
        "        z_scores = model(images)\n",
        "\n",
        "        _, y_pred = z_scores.max(1)\n",
        "        n_corrects += (y_pred == labels).sum()\n",
        "        n_samples += y_pred.size(0)\n",
        "\n",
        "    print(f'We got {n_corrects}/{n_samples} correct')\n",
        "    print(f'Accuracy =  {float(n_corrects) / float(n_samples)*100.0:.2f}')\n",
        "    # Put model to train mode\n",
        "    model.train()"
      ],
      "execution_count": null,
      "outputs": []
    },
    {
      "cell_type": "code",
      "metadata": {
        "id": "wSJTUX14qWjn",
        "colab": {
          "base_uri": "https://localhost:8080/"
        },
        "outputId": "b37e57d1-7af2-4bdb-8581-cdd2ee0c478e"
      },
      "source": [
        "get_accuracy(train_loader, model)\n",
        "get_accuracy(test_loader, model)"
      ],
      "execution_count": null,
      "outputs": [
        {
          "output_type": "stream",
          "name": "stdout",
          "text": [
            "Getting accuracy on trainning data\n",
            "We got 52798/60000 correct\n",
            "Accuracy =  88.00\n",
            "Getting accuracy on testing data\n",
            "We got 8586/10000 correct\n",
            "Accuracy =  85.86\n"
          ]
        }
      ]
    },
    {
      "cell_type": "code",
      "metadata": {
        "id": "0U0orgcL4Vul"
      },
      "source": [
        ""
      ],
      "execution_count": null,
      "outputs": []
    }
  ]
}