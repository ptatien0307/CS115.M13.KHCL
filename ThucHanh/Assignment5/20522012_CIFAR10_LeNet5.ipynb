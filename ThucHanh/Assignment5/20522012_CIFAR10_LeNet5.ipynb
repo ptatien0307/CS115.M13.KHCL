{
  "nbformat": 4,
  "nbformat_minor": 0,
  "metadata": {
    "colab": {
      "name": "CIFAR-10_LeNet5",
      "provenance": [],
      "collapsed_sections": []
    },
    "kernelspec": {
      "name": "python3",
      "display_name": "Python 3"
    },
    "language_info": {
      "name": "python"
    },
    "accelerator": "GPU"
  },
  "cells": [
    {
      "cell_type": "code",
      "metadata": {
        "id": "twXX-Yk0-E0G"
      },
      "source": [
        "import random\n",
        "import numpy as np\n",
        "import matplotlib.pyplot as plt\n",
        "\n",
        "\n",
        "import torch\n",
        "import torch.nn as nn\n",
        "\n",
        "\n",
        "import torch.optim as optim \n",
        "from torch.utils.data import DataLoader \n",
        "import torchvision.datasets as datasets \n",
        "import torchvision.transforms as transforms "
      ],
      "execution_count": 17,
      "outputs": []
    },
    {
      "cell_type": "code",
      "metadata": {
        "colab": {
          "base_uri": "https://localhost:8080/"
        },
        "id": "9NOHaD-r-paW",
        "outputId": "310de00d-56df-4f5f-8e4f-41bae4f34343"
      },
      "source": [
        "device = torch.device('cuda' if torch.cuda.is_available() else 'cpu')\n",
        "device"
      ],
      "execution_count": 18,
      "outputs": [
        {
          "output_type": "execute_result",
          "data": {
            "text/plain": [
              "device(type='cuda')"
            ]
          },
          "metadata": {},
          "execution_count": 18
        }
      ]
    },
    {
      "cell_type": "code",
      "metadata": {
        "id": "cp7_oWUg-qRl"
      },
      "source": [
        "# Set up for getting reproducibility of result\n",
        "random.seed(1)\n",
        "np.random.seed(1)\n",
        "torch.manual_seed(1)\n",
        "torch.backends.cudnn.deterministic = True\n",
        "torch.backends.cudnn.benchmark = False"
      ],
      "execution_count": 19,
      "outputs": []
    },
    {
      "cell_type": "code",
      "metadata": {
        "id": "ctJpf1vj-rOn"
      },
      "source": [
        "# Hyperparameters\n",
        "n_classes = 10\n",
        "learning_rate = 0.001\n",
        "batch_size = 64\n",
        "n_epochs = 50"
      ],
      "execution_count": 20,
      "outputs": []
    },
    {
      "cell_type": "code",
      "metadata": {
        "id": "BwuUdgUT-s4x"
      },
      "source": [
        "# Load 'MNIST' dataset\n",
        "train_dataset = datasets.CIFAR10(root='/content/drive/MyDrive/Datasets/CIFAR10', train=True, \n",
        "                                                    transform=transforms.ToTensor(), download=False)\n",
        "\n",
        "train_loader = DataLoader(dataset=train_dataset, batch_size=batch_size, shuffle=True)\n",
        "\n",
        "test_dataset = datasets.CIFAR10(root='/content/drive/MyDrive/Datasets/CIFAR10', train=False, \n",
        "                                                  transform=transforms.ToTensor(), download=False)\n",
        "\n",
        "test_loader = DataLoader(dataset=test_dataset, batch_size=batch_size, shuffle=True)"
      ],
      "execution_count": 22,
      "outputs": []
    },
    {
      "cell_type": "code",
      "metadata": {
        "colab": {
          "base_uri": "https://localhost:8080/"
        },
        "id": "yuTNPWPR_PdN",
        "outputId": "0faf9aae-72c4-4add-81e6-f3daf0a10c6a"
      },
      "source": [
        "train_dataset"
      ],
      "execution_count": 23,
      "outputs": [
        {
          "output_type": "execute_result",
          "data": {
            "text/plain": [
              "Dataset CIFAR10\n",
              "    Number of datapoints: 50000\n",
              "    Root location: /content/drive/MyDrive/Datasets/CIFAR10\n",
              "    Split: Train\n",
              "    StandardTransform\n",
              "Transform: ToTensor()"
            ]
          },
          "metadata": {},
          "execution_count": 23
        }
      ]
    },
    {
      "cell_type": "code",
      "metadata": {
        "colab": {
          "base_uri": "https://localhost:8080/"
        },
        "id": "igfQAqev_RG3",
        "outputId": "2991fd02-db2e-4e12-c4ec-691ea15a8d2c"
      },
      "source": [
        "test_dataset"
      ],
      "execution_count": 24,
      "outputs": [
        {
          "output_type": "execute_result",
          "data": {
            "text/plain": [
              "Dataset CIFAR10\n",
              "    Number of datapoints: 10000\n",
              "    Root location: /content/drive/MyDrive/Datasets/CIFAR10\n",
              "    Split: Test\n",
              "    StandardTransform\n",
              "Transform: ToTensor()"
            ]
          },
          "metadata": {},
          "execution_count": 24
        }
      ]
    },
    {
      "cell_type": "code",
      "metadata": {
        "id": "pUaOXM6N-t1g"
      },
      "source": [
        "class LeNet5(nn.Module):\n",
        "    def __init__(self, n_classes):\n",
        "        super().__init__()\n",
        "        self.model = nn.Sequential(\n",
        "            nn.Conv2d(in_channels=3, out_channels=6, kernel_size=5, stride=1),\n",
        "            nn.Tanh(),\n",
        "            nn.AvgPool2d(kernel_size=2),\n",
        "            nn.Conv2d(in_channels=6, out_channels=16, kernel_size=5, stride=1),\n",
        "            nn.Tanh(),\n",
        "            nn.AvgPool2d(kernel_size=2),\n",
        "            nn.Conv2d(in_channels=16, out_channels=120, kernel_size=5, stride=1),\n",
        "            nn.Tanh(),\n",
        "            nn.Flatten(),\n",
        "            nn.Linear(in_features=120, out_features=84),\n",
        "            nn.Tanh(),\n",
        "            nn.Linear(in_features=84, out_features=n_classes),\n",
        "            nn.Softmax(dim=1)\n",
        "        )\n",
        "    def forward(self, X):\n",
        "        prob = self.model(X)\n",
        "        return prob"
      ],
      "execution_count": 25,
      "outputs": []
    },
    {
      "cell_type": "code",
      "metadata": {
        "colab": {
          "base_uri": "https://localhost:8080/"
        },
        "id": "ZftkLf4a-vYk",
        "outputId": "c5511cff-7706-43bd-cb64-6ce586ab2b4e"
      },
      "source": [
        "model = LeNet5(n_classes=n_classes).to(device)\n",
        "model"
      ],
      "execution_count": 26,
      "outputs": [
        {
          "output_type": "execute_result",
          "data": {
            "text/plain": [
              "LeNet5(\n",
              "  (model): Sequential(\n",
              "    (0): Conv2d(3, 6, kernel_size=(5, 5), stride=(1, 1))\n",
              "    (1): Tanh()\n",
              "    (2): AvgPool2d(kernel_size=2, stride=2, padding=0)\n",
              "    (3): Conv2d(6, 16, kernel_size=(5, 5), stride=(1, 1))\n",
              "    (4): Tanh()\n",
              "    (5): AvgPool2d(kernel_size=2, stride=2, padding=0)\n",
              "    (6): Conv2d(16, 120, kernel_size=(5, 5), stride=(1, 1))\n",
              "    (7): Tanh()\n",
              "    (8): Flatten(start_dim=1, end_dim=-1)\n",
              "    (9): Linear(in_features=120, out_features=84, bias=True)\n",
              "    (10): Tanh()\n",
              "    (11): Linear(in_features=84, out_features=10, bias=True)\n",
              "    (12): Softmax(dim=1)\n",
              "  )\n",
              ")"
            ]
          },
          "metadata": {},
          "execution_count": 26
        }
      ]
    },
    {
      "cell_type": "code",
      "metadata": {
        "id": "9tAXu6pL-wH_"
      },
      "source": [
        "criterion = nn.CrossEntropyLoss()\n",
        "optimizer = optim.Adam(model.parameters(), lr=learning_rate)"
      ],
      "execution_count": 27,
      "outputs": []
    },
    {
      "cell_type": "code",
      "metadata": {
        "colab": {
          "base_uri": "https://localhost:8080/"
        },
        "id": "nZOjtfU0-w2x",
        "outputId": "f7199caa-03b0-4c5a-d9ec-b8feaaa8d505"
      },
      "source": [
        "for epoch in range(n_epochs):\n",
        "    for batch_idx, (images, labels) in enumerate(train_loader):\n",
        "        # Get data to GPU\n",
        "        images = images.to(device)\n",
        "        labels = labels.to(device)\n",
        "\n",
        "        # Forward pass\n",
        "        z_scores = model(images)\n",
        "        loss = criterion(z_scores, labels)\n",
        "\n",
        "        # Backward pass\n",
        "        optimizer.zero_grad()\n",
        "        loss.backward()\n",
        "\n",
        "        # Gradient descent\n",
        "        optimizer.step()\n",
        "\n",
        "        if(batch_idx + 1) % 100 == 0:\n",
        "            print(f'Epoch {epoch+1}/{n_epochs}, Batch {batch_idx+1}, Loss: {loss.item():.4f}')"
      ],
      "execution_count": 28,
      "outputs": [
        {
          "output_type": "stream",
          "name": "stdout",
          "text": [
            "Epoch 1/50, Batch 100, Loss: 2.1772\n",
            "Epoch 1/50, Batch 200, Loss: 2.1505\n",
            "Epoch 1/50, Batch 300, Loss: 2.1632\n",
            "Epoch 1/50, Batch 400, Loss: 2.0635\n",
            "Epoch 1/50, Batch 500, Loss: 2.1292\n",
            "Epoch 1/50, Batch 600, Loss: 1.9707\n",
            "Epoch 1/50, Batch 700, Loss: 2.1253\n",
            "Epoch 2/50, Batch 100, Loss: 2.0021\n",
            "Epoch 2/50, Batch 200, Loss: 2.0485\n",
            "Epoch 2/50, Batch 300, Loss: 2.1417\n",
            "Epoch 2/50, Batch 400, Loss: 2.0870\n",
            "Epoch 2/50, Batch 500, Loss: 1.9966\n",
            "Epoch 2/50, Batch 600, Loss: 2.1462\n",
            "Epoch 2/50, Batch 700, Loss: 2.0172\n",
            "Epoch 3/50, Batch 100, Loss: 1.9908\n",
            "Epoch 3/50, Batch 200, Loss: 2.0238\n",
            "Epoch 3/50, Batch 300, Loss: 1.9441\n",
            "Epoch 3/50, Batch 400, Loss: 2.0661\n",
            "Epoch 3/50, Batch 500, Loss: 2.1222\n",
            "Epoch 3/50, Batch 600, Loss: 2.0073\n",
            "Epoch 3/50, Batch 700, Loss: 1.9918\n",
            "Epoch 4/50, Batch 100, Loss: 1.9851\n",
            "Epoch 4/50, Batch 200, Loss: 2.0575\n",
            "Epoch 4/50, Batch 300, Loss: 1.9538\n",
            "Epoch 4/50, Batch 400, Loss: 1.9675\n",
            "Epoch 4/50, Batch 500, Loss: 2.0576\n",
            "Epoch 4/50, Batch 600, Loss: 1.9670\n",
            "Epoch 4/50, Batch 700, Loss: 1.9307\n",
            "Epoch 5/50, Batch 100, Loss: 2.0231\n",
            "Epoch 5/50, Batch 200, Loss: 1.9869\n",
            "Epoch 5/50, Batch 300, Loss: 2.0836\n",
            "Epoch 5/50, Batch 400, Loss: 2.0069\n",
            "Epoch 5/50, Batch 500, Loss: 1.9669\n",
            "Epoch 5/50, Batch 600, Loss: 1.9681\n",
            "Epoch 5/50, Batch 700, Loss: 2.0029\n",
            "Epoch 6/50, Batch 100, Loss: 1.9784\n",
            "Epoch 6/50, Batch 200, Loss: 2.0499\n",
            "Epoch 6/50, Batch 300, Loss: 2.0696\n",
            "Epoch 6/50, Batch 400, Loss: 1.9329\n",
            "Epoch 6/50, Batch 500, Loss: 1.9209\n",
            "Epoch 6/50, Batch 600, Loss: 2.0234\n",
            "Epoch 6/50, Batch 700, Loss: 1.8501\n",
            "Epoch 7/50, Batch 100, Loss: 2.0143\n",
            "Epoch 7/50, Batch 200, Loss: 2.0022\n",
            "Epoch 7/50, Batch 300, Loss: 1.9521\n",
            "Epoch 7/50, Batch 400, Loss: 2.0549\n",
            "Epoch 7/50, Batch 500, Loss: 1.9245\n",
            "Epoch 7/50, Batch 600, Loss: 2.0542\n",
            "Epoch 7/50, Batch 700, Loss: 1.9724\n",
            "Epoch 8/50, Batch 100, Loss: 2.0513\n",
            "Epoch 8/50, Batch 200, Loss: 1.9791\n",
            "Epoch 8/50, Batch 300, Loss: 2.0528\n",
            "Epoch 8/50, Batch 400, Loss: 2.0362\n",
            "Epoch 8/50, Batch 500, Loss: 1.8838\n",
            "Epoch 8/50, Batch 600, Loss: 2.0200\n",
            "Epoch 8/50, Batch 700, Loss: 1.9950\n",
            "Epoch 9/50, Batch 100, Loss: 1.9002\n",
            "Epoch 9/50, Batch 200, Loss: 1.8672\n",
            "Epoch 9/50, Batch 300, Loss: 1.8366\n",
            "Epoch 9/50, Batch 400, Loss: 1.9796\n",
            "Epoch 9/50, Batch 500, Loss: 1.9657\n",
            "Epoch 9/50, Batch 600, Loss: 1.9037\n",
            "Epoch 9/50, Batch 700, Loss: 1.9096\n",
            "Epoch 10/50, Batch 100, Loss: 1.9034\n",
            "Epoch 10/50, Batch 200, Loss: 1.8998\n",
            "Epoch 10/50, Batch 300, Loss: 1.9535\n",
            "Epoch 10/50, Batch 400, Loss: 1.9351\n",
            "Epoch 10/50, Batch 500, Loss: 1.9674\n",
            "Epoch 10/50, Batch 600, Loss: 1.9579\n",
            "Epoch 10/50, Batch 700, Loss: 1.9408\n",
            "Epoch 11/50, Batch 100, Loss: 1.9253\n",
            "Epoch 11/50, Batch 200, Loss: 1.8904\n",
            "Epoch 11/50, Batch 300, Loss: 1.9938\n",
            "Epoch 11/50, Batch 400, Loss: 1.9174\n",
            "Epoch 11/50, Batch 500, Loss: 1.8520\n",
            "Epoch 11/50, Batch 600, Loss: 1.9074\n",
            "Epoch 11/50, Batch 700, Loss: 1.9405\n",
            "Epoch 12/50, Batch 100, Loss: 1.8180\n",
            "Epoch 12/50, Batch 200, Loss: 2.0234\n",
            "Epoch 12/50, Batch 300, Loss: 1.9018\n",
            "Epoch 12/50, Batch 400, Loss: 1.8747\n",
            "Epoch 12/50, Batch 500, Loss: 1.8878\n",
            "Epoch 12/50, Batch 600, Loss: 2.0428\n",
            "Epoch 12/50, Batch 700, Loss: 1.9556\n",
            "Epoch 13/50, Batch 100, Loss: 1.8588\n",
            "Epoch 13/50, Batch 200, Loss: 1.8793\n",
            "Epoch 13/50, Batch 300, Loss: 1.9453\n",
            "Epoch 13/50, Batch 400, Loss: 1.9779\n",
            "Epoch 13/50, Batch 500, Loss: 1.9714\n",
            "Epoch 13/50, Batch 600, Loss: 1.8833\n",
            "Epoch 13/50, Batch 700, Loss: 1.8497\n",
            "Epoch 14/50, Batch 100, Loss: 1.8841\n",
            "Epoch 14/50, Batch 200, Loss: 1.9745\n",
            "Epoch 14/50, Batch 300, Loss: 1.9635\n",
            "Epoch 14/50, Batch 400, Loss: 1.9163\n",
            "Epoch 14/50, Batch 500, Loss: 1.9049\n",
            "Epoch 14/50, Batch 600, Loss: 1.8950\n",
            "Epoch 14/50, Batch 700, Loss: 1.9360\n",
            "Epoch 15/50, Batch 100, Loss: 1.8348\n",
            "Epoch 15/50, Batch 200, Loss: 1.8121\n",
            "Epoch 15/50, Batch 300, Loss: 1.8872\n",
            "Epoch 15/50, Batch 400, Loss: 1.9380\n",
            "Epoch 15/50, Batch 500, Loss: 1.9047\n",
            "Epoch 15/50, Batch 600, Loss: 1.9202\n",
            "Epoch 15/50, Batch 700, Loss: 1.9242\n",
            "Epoch 16/50, Batch 100, Loss: 1.8366\n",
            "Epoch 16/50, Batch 200, Loss: 1.8382\n",
            "Epoch 16/50, Batch 300, Loss: 1.9143\n",
            "Epoch 16/50, Batch 400, Loss: 1.8130\n",
            "Epoch 16/50, Batch 500, Loss: 1.8425\n",
            "Epoch 16/50, Batch 600, Loss: 1.7703\n",
            "Epoch 16/50, Batch 700, Loss: 1.8314\n",
            "Epoch 17/50, Batch 100, Loss: 1.7879\n",
            "Epoch 17/50, Batch 200, Loss: 1.8165\n",
            "Epoch 17/50, Batch 300, Loss: 1.9499\n",
            "Epoch 17/50, Batch 400, Loss: 1.7783\n",
            "Epoch 17/50, Batch 500, Loss: 1.8725\n",
            "Epoch 17/50, Batch 600, Loss: 1.9984\n",
            "Epoch 17/50, Batch 700, Loss: 1.8769\n",
            "Epoch 18/50, Batch 100, Loss: 1.8154\n",
            "Epoch 18/50, Batch 200, Loss: 1.8381\n",
            "Epoch 18/50, Batch 300, Loss: 1.8678\n",
            "Epoch 18/50, Batch 400, Loss: 1.8262\n",
            "Epoch 18/50, Batch 500, Loss: 1.7973\n",
            "Epoch 18/50, Batch 600, Loss: 1.8823\n",
            "Epoch 18/50, Batch 700, Loss: 1.8084\n",
            "Epoch 19/50, Batch 100, Loss: 1.7759\n",
            "Epoch 19/50, Batch 200, Loss: 1.8370\n",
            "Epoch 19/50, Batch 300, Loss: 1.8368\n",
            "Epoch 19/50, Batch 400, Loss: 1.8320\n",
            "Epoch 19/50, Batch 500, Loss: 1.7619\n",
            "Epoch 19/50, Batch 600, Loss: 1.9063\n",
            "Epoch 19/50, Batch 700, Loss: 1.8182\n",
            "Epoch 20/50, Batch 100, Loss: 1.7961\n",
            "Epoch 20/50, Batch 200, Loss: 1.8172\n",
            "Epoch 20/50, Batch 300, Loss: 1.8512\n",
            "Epoch 20/50, Batch 400, Loss: 1.8920\n",
            "Epoch 20/50, Batch 500, Loss: 1.9155\n",
            "Epoch 20/50, Batch 600, Loss: 1.8437\n",
            "Epoch 20/50, Batch 700, Loss: 1.8805\n",
            "Epoch 21/50, Batch 100, Loss: 1.7125\n",
            "Epoch 21/50, Batch 200, Loss: 1.9086\n",
            "Epoch 21/50, Batch 300, Loss: 1.8568\n",
            "Epoch 21/50, Batch 400, Loss: 1.7783\n",
            "Epoch 21/50, Batch 500, Loss: 1.8569\n",
            "Epoch 21/50, Batch 600, Loss: 1.8665\n",
            "Epoch 21/50, Batch 700, Loss: 1.8550\n",
            "Epoch 22/50, Batch 100, Loss: 1.9124\n",
            "Epoch 22/50, Batch 200, Loss: 1.7967\n",
            "Epoch 22/50, Batch 300, Loss: 1.9622\n",
            "Epoch 22/50, Batch 400, Loss: 1.9114\n",
            "Epoch 22/50, Batch 500, Loss: 1.8850\n",
            "Epoch 22/50, Batch 600, Loss: 1.8417\n",
            "Epoch 22/50, Batch 700, Loss: 1.8674\n",
            "Epoch 23/50, Batch 100, Loss: 1.7735\n",
            "Epoch 23/50, Batch 200, Loss: 1.8253\n",
            "Epoch 23/50, Batch 300, Loss: 1.9580\n",
            "Epoch 23/50, Batch 400, Loss: 1.9291\n",
            "Epoch 23/50, Batch 500, Loss: 1.7697\n",
            "Epoch 23/50, Batch 600, Loss: 1.8584\n",
            "Epoch 23/50, Batch 700, Loss: 1.8496\n",
            "Epoch 24/50, Batch 100, Loss: 1.7675\n",
            "Epoch 24/50, Batch 200, Loss: 1.8784\n",
            "Epoch 24/50, Batch 300, Loss: 1.7708\n",
            "Epoch 24/50, Batch 400, Loss: 1.8641\n",
            "Epoch 24/50, Batch 500, Loss: 1.9356\n",
            "Epoch 24/50, Batch 600, Loss: 1.8232\n",
            "Epoch 24/50, Batch 700, Loss: 1.8293\n",
            "Epoch 25/50, Batch 100, Loss: 1.8233\n",
            "Epoch 25/50, Batch 200, Loss: 1.8907\n",
            "Epoch 25/50, Batch 300, Loss: 1.8195\n",
            "Epoch 25/50, Batch 400, Loss: 1.6721\n",
            "Epoch 25/50, Batch 500, Loss: 1.8642\n",
            "Epoch 25/50, Batch 600, Loss: 1.7406\n",
            "Epoch 25/50, Batch 700, Loss: 1.8674\n",
            "Epoch 26/50, Batch 100, Loss: 1.7846\n",
            "Epoch 26/50, Batch 200, Loss: 1.7592\n",
            "Epoch 26/50, Batch 300, Loss: 1.7950\n",
            "Epoch 26/50, Batch 400, Loss: 1.7799\n",
            "Epoch 26/50, Batch 500, Loss: 1.8057\n",
            "Epoch 26/50, Batch 600, Loss: 1.8262\n",
            "Epoch 26/50, Batch 700, Loss: 1.7809\n",
            "Epoch 27/50, Batch 100, Loss: 1.8057\n",
            "Epoch 27/50, Batch 200, Loss: 1.8384\n",
            "Epoch 27/50, Batch 300, Loss: 1.8389\n",
            "Epoch 27/50, Batch 400, Loss: 1.8809\n",
            "Epoch 27/50, Batch 500, Loss: 1.7398\n",
            "Epoch 27/50, Batch 600, Loss: 1.7846\n",
            "Epoch 27/50, Batch 700, Loss: 1.8281\n",
            "Epoch 28/50, Batch 100, Loss: 1.7829\n",
            "Epoch 28/50, Batch 200, Loss: 1.7738\n",
            "Epoch 28/50, Batch 300, Loss: 1.8691\n",
            "Epoch 28/50, Batch 400, Loss: 1.8037\n",
            "Epoch 28/50, Batch 500, Loss: 1.8292\n",
            "Epoch 28/50, Batch 600, Loss: 1.8480\n",
            "Epoch 28/50, Batch 700, Loss: 1.6786\n",
            "Epoch 29/50, Batch 100, Loss: 1.7600\n",
            "Epoch 29/50, Batch 200, Loss: 1.7817\n",
            "Epoch 29/50, Batch 300, Loss: 1.8658\n",
            "Epoch 29/50, Batch 400, Loss: 1.8218\n",
            "Epoch 29/50, Batch 500, Loss: 1.7767\n",
            "Epoch 29/50, Batch 600, Loss: 1.8169\n",
            "Epoch 29/50, Batch 700, Loss: 1.8408\n",
            "Epoch 30/50, Batch 100, Loss: 1.8194\n",
            "Epoch 30/50, Batch 200, Loss: 1.7462\n",
            "Epoch 30/50, Batch 300, Loss: 1.7283\n",
            "Epoch 30/50, Batch 400, Loss: 1.7928\n",
            "Epoch 30/50, Batch 500, Loss: 1.8079\n",
            "Epoch 30/50, Batch 600, Loss: 1.7585\n",
            "Epoch 30/50, Batch 700, Loss: 1.8107\n",
            "Epoch 31/50, Batch 100, Loss: 1.7569\n",
            "Epoch 31/50, Batch 200, Loss: 1.7319\n",
            "Epoch 31/50, Batch 300, Loss: 1.8130\n",
            "Epoch 31/50, Batch 400, Loss: 1.8199\n",
            "Epoch 31/50, Batch 500, Loss: 1.8445\n",
            "Epoch 31/50, Batch 600, Loss: 1.7758\n",
            "Epoch 31/50, Batch 700, Loss: 1.8901\n",
            "Epoch 32/50, Batch 100, Loss: 1.7184\n",
            "Epoch 32/50, Batch 200, Loss: 1.8767\n",
            "Epoch 32/50, Batch 300, Loss: 1.8040\n",
            "Epoch 32/50, Batch 400, Loss: 1.8219\n",
            "Epoch 32/50, Batch 500, Loss: 1.8057\n",
            "Epoch 32/50, Batch 600, Loss: 1.7022\n",
            "Epoch 32/50, Batch 700, Loss: 1.7971\n",
            "Epoch 33/50, Batch 100, Loss: 1.7604\n",
            "Epoch 33/50, Batch 200, Loss: 1.8697\n",
            "Epoch 33/50, Batch 300, Loss: 1.7217\n",
            "Epoch 33/50, Batch 400, Loss: 1.8216\n",
            "Epoch 33/50, Batch 500, Loss: 1.8233\n",
            "Epoch 33/50, Batch 600, Loss: 1.6930\n",
            "Epoch 33/50, Batch 700, Loss: 1.7602\n",
            "Epoch 34/50, Batch 100, Loss: 1.7176\n",
            "Epoch 34/50, Batch 200, Loss: 1.8231\n",
            "Epoch 34/50, Batch 300, Loss: 1.8512\n",
            "Epoch 34/50, Batch 400, Loss: 1.7799\n",
            "Epoch 34/50, Batch 500, Loss: 1.7026\n",
            "Epoch 34/50, Batch 600, Loss: 1.8904\n",
            "Epoch 34/50, Batch 700, Loss: 1.8791\n",
            "Epoch 35/50, Batch 100, Loss: 1.7103\n",
            "Epoch 35/50, Batch 200, Loss: 1.7510\n",
            "Epoch 35/50, Batch 300, Loss: 1.8406\n",
            "Epoch 35/50, Batch 400, Loss: 1.8546\n",
            "Epoch 35/50, Batch 500, Loss: 1.7455\n",
            "Epoch 35/50, Batch 600, Loss: 1.7392\n",
            "Epoch 35/50, Batch 700, Loss: 1.8224\n",
            "Epoch 36/50, Batch 100, Loss: 1.7373\n",
            "Epoch 36/50, Batch 200, Loss: 1.6830\n",
            "Epoch 36/50, Batch 300, Loss: 1.7702\n",
            "Epoch 36/50, Batch 400, Loss: 1.7403\n",
            "Epoch 36/50, Batch 500, Loss: 1.8455\n",
            "Epoch 36/50, Batch 600, Loss: 1.7630\n",
            "Epoch 36/50, Batch 700, Loss: 1.7035\n",
            "Epoch 37/50, Batch 100, Loss: 1.8899\n",
            "Epoch 37/50, Batch 200, Loss: 1.7221\n",
            "Epoch 37/50, Batch 300, Loss: 1.7657\n",
            "Epoch 37/50, Batch 400, Loss: 1.7713\n",
            "Epoch 37/50, Batch 500, Loss: 1.9028\n",
            "Epoch 37/50, Batch 600, Loss: 1.7217\n",
            "Epoch 37/50, Batch 700, Loss: 1.7719\n",
            "Epoch 38/50, Batch 100, Loss: 1.9165\n",
            "Epoch 38/50, Batch 200, Loss: 1.6204\n",
            "Epoch 38/50, Batch 300, Loss: 1.7764\n",
            "Epoch 38/50, Batch 400, Loss: 1.8695\n",
            "Epoch 38/50, Batch 500, Loss: 1.7368\n",
            "Epoch 38/50, Batch 600, Loss: 1.7422\n",
            "Epoch 38/50, Batch 700, Loss: 1.7644\n",
            "Epoch 39/50, Batch 100, Loss: 1.7784\n",
            "Epoch 39/50, Batch 200, Loss: 1.7605\n",
            "Epoch 39/50, Batch 300, Loss: 1.7343\n",
            "Epoch 39/50, Batch 400, Loss: 1.7512\n",
            "Epoch 39/50, Batch 500, Loss: 1.7403\n",
            "Epoch 39/50, Batch 600, Loss: 1.7707\n",
            "Epoch 39/50, Batch 700, Loss: 1.7875\n",
            "Epoch 40/50, Batch 100, Loss: 1.7918\n",
            "Epoch 40/50, Batch 200, Loss: 1.7154\n",
            "Epoch 40/50, Batch 300, Loss: 1.7734\n",
            "Epoch 40/50, Batch 400, Loss: 1.7165\n",
            "Epoch 40/50, Batch 500, Loss: 1.7257\n",
            "Epoch 40/50, Batch 600, Loss: 1.8936\n",
            "Epoch 40/50, Batch 700, Loss: 1.7005\n",
            "Epoch 41/50, Batch 100, Loss: 1.7550\n",
            "Epoch 41/50, Batch 200, Loss: 1.8047\n",
            "Epoch 41/50, Batch 300, Loss: 1.8004\n",
            "Epoch 41/50, Batch 400, Loss: 1.7597\n",
            "Epoch 41/50, Batch 500, Loss: 1.8153\n",
            "Epoch 41/50, Batch 600, Loss: 1.8156\n",
            "Epoch 41/50, Batch 700, Loss: 1.7422\n",
            "Epoch 42/50, Batch 100, Loss: 1.6875\n",
            "Epoch 42/50, Batch 200, Loss: 1.7298\n",
            "Epoch 42/50, Batch 300, Loss: 1.7134\n",
            "Epoch 42/50, Batch 400, Loss: 1.7596\n",
            "Epoch 42/50, Batch 500, Loss: 1.7373\n",
            "Epoch 42/50, Batch 600, Loss: 1.7605\n",
            "Epoch 42/50, Batch 700, Loss: 1.6239\n",
            "Epoch 43/50, Batch 100, Loss: 1.7145\n",
            "Epoch 43/50, Batch 200, Loss: 1.7670\n",
            "Epoch 43/50, Batch 300, Loss: 1.8109\n",
            "Epoch 43/50, Batch 400, Loss: 1.6953\n",
            "Epoch 43/50, Batch 500, Loss: 1.7042\n",
            "Epoch 43/50, Batch 600, Loss: 1.8523\n",
            "Epoch 43/50, Batch 700, Loss: 1.7393\n",
            "Epoch 44/50, Batch 100, Loss: 1.7074\n",
            "Epoch 44/50, Batch 200, Loss: 1.7423\n",
            "Epoch 44/50, Batch 300, Loss: 1.7106\n",
            "Epoch 44/50, Batch 400, Loss: 1.7277\n",
            "Epoch 44/50, Batch 500, Loss: 1.7276\n",
            "Epoch 44/50, Batch 600, Loss: 1.7479\n",
            "Epoch 44/50, Batch 700, Loss: 1.8606\n",
            "Epoch 45/50, Batch 100, Loss: 1.8171\n",
            "Epoch 45/50, Batch 200, Loss: 1.6966\n",
            "Epoch 45/50, Batch 300, Loss: 1.7440\n",
            "Epoch 45/50, Batch 400, Loss: 1.7522\n",
            "Epoch 45/50, Batch 500, Loss: 1.7434\n",
            "Epoch 45/50, Batch 600, Loss: 1.7234\n",
            "Epoch 45/50, Batch 700, Loss: 1.7800\n",
            "Epoch 46/50, Batch 100, Loss: 1.7324\n",
            "Epoch 46/50, Batch 200, Loss: 1.6861\n",
            "Epoch 46/50, Batch 300, Loss: 1.6381\n",
            "Epoch 46/50, Batch 400, Loss: 1.7268\n",
            "Epoch 46/50, Batch 500, Loss: 1.7634\n",
            "Epoch 46/50, Batch 600, Loss: 1.6077\n",
            "Epoch 46/50, Batch 700, Loss: 1.6899\n",
            "Epoch 47/50, Batch 100, Loss: 1.6716\n",
            "Epoch 47/50, Batch 200, Loss: 1.8242\n",
            "Epoch 47/50, Batch 300, Loss: 1.7593\n",
            "Epoch 47/50, Batch 400, Loss: 1.7329\n",
            "Epoch 47/50, Batch 500, Loss: 1.6898\n",
            "Epoch 47/50, Batch 600, Loss: 1.7459\n",
            "Epoch 47/50, Batch 700, Loss: 1.7619\n",
            "Epoch 48/50, Batch 100, Loss: 1.7575\n",
            "Epoch 48/50, Batch 200, Loss: 1.8332\n",
            "Epoch 48/50, Batch 300, Loss: 1.8056\n",
            "Epoch 48/50, Batch 400, Loss: 1.7570\n",
            "Epoch 48/50, Batch 500, Loss: 1.6968\n",
            "Epoch 48/50, Batch 600, Loss: 1.7229\n",
            "Epoch 48/50, Batch 700, Loss: 1.7035\n",
            "Epoch 49/50, Batch 100, Loss: 1.7975\n",
            "Epoch 49/50, Batch 200, Loss: 1.7882\n",
            "Epoch 49/50, Batch 300, Loss: 1.7471\n",
            "Epoch 49/50, Batch 400, Loss: 1.6879\n",
            "Epoch 49/50, Batch 500, Loss: 1.7151\n",
            "Epoch 49/50, Batch 600, Loss: 1.7140\n",
            "Epoch 49/50, Batch 700, Loss: 1.7529\n",
            "Epoch 50/50, Batch 100, Loss: 1.7014\n",
            "Epoch 50/50, Batch 200, Loss: 1.8841\n",
            "Epoch 50/50, Batch 300, Loss: 1.6991\n",
            "Epoch 50/50, Batch 400, Loss: 1.6716\n",
            "Epoch 50/50, Batch 500, Loss: 1.7737\n",
            "Epoch 50/50, Batch 600, Loss: 1.7100\n",
            "Epoch 50/50, Batch 700, Loss: 1.7836\n"
          ]
        }
      ]
    },
    {
      "cell_type": "code",
      "metadata": {
        "id": "CrLzVqFg-xos"
      },
      "source": [
        "def get_accuracy(loader, model):\n",
        "    if loader.dataset.train:\n",
        "        print('Getting accuracy on trainning data')\n",
        "    else:\n",
        "        print('Getting accuracy on testing data')\n",
        "\n",
        "    n_corrects = 0\n",
        "    n_samples = 0\n",
        "\n",
        "    # Put model to evalution mode\n",
        "    model.eval()\n",
        "\n",
        "    with torch.no_grad():\n",
        "        for images, labels in loader:\n",
        "            images = images.to(device)\n",
        "            labels = labels.to(device)\n",
        "\n",
        "            z_scores = model(images)\n",
        "\n",
        "            _, y_pred = z_scores.max(1)\n",
        "            n_corrects += (y_pred == labels).sum()\n",
        "            n_samples += y_pred.size(0)\n",
        "\n",
        "    print(f'We got {n_corrects}/{n_samples} correct')\n",
        "    print(f'Accuracy =  {float(n_corrects) / float(n_samples)*100.0:.2f}')\n",
        "    # Put model to train mode\n",
        "    model.train()"
      ],
      "execution_count": 29,
      "outputs": []
    },
    {
      "cell_type": "code",
      "metadata": {
        "id": "oqaI4Haz-yTu",
        "colab": {
          "base_uri": "https://localhost:8080/"
        },
        "outputId": "af157b46-c767-487e-c5e9-4a61803b867a"
      },
      "source": [
        "get_accuracy(train_loader, model)\n",
        "get_accuracy(test_loader, model)"
      ],
      "execution_count": 30,
      "outputs": [
        {
          "output_type": "stream",
          "name": "stdout",
          "text": [
            "Getting accuracy on trainning data\n",
            "We got 36548/50000 correct\n",
            "Accuracy =  73.10\n",
            "Getting accuracy on testing data\n",
            "We got 5284/10000 correct\n",
            "Accuracy =  52.84\n"
          ]
        }
      ]
    },
    {
      "cell_type": "code",
      "metadata": {
        "id": "IBrfIChZA7X4"
      },
      "source": [
        ""
      ],
      "execution_count": 30,
      "outputs": []
    }
  ]
}