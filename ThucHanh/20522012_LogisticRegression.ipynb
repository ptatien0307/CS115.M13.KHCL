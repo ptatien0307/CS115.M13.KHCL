{
  "nbformat": 4,
  "nbformat_minor": 0,
  "metadata": {
    "colab": {
      "name": "20522012_LogisticRegression",
      "provenance": [],
      "collapsed_sections": []
    },
    "kernelspec": {
      "name": "python3",
      "display_name": "Python 3"
    },
    "language_info": {
      "name": "python"
    },
    "accelerator": "GPU"
  },
  "cells": [
    {
      "cell_type": "code",
      "metadata": {
        "id": "YV678qBdr321"
      },
      "source": [
        "import cv2\n",
        "import os\n",
        "import numpy as np\n",
        "from google.colab.patches import cv2_imshow\n",
        "from sklearn.linear_model import LogisticRegression\n",
        "from sklearn.model_selection import train_test_split\n",
        "from sklearn.metrics import accuracy_score, classification_report\n",
        "from skimage.feature import hog"
      ],
      "execution_count": null,
      "outputs": []
    },
    {
      "cell_type": "code",
      "metadata": {
        "id": "BuRIZ-7S08fU"
      },
      "source": [
        "os.chdir('/content/drive/MyDrive/folio/')"
      ],
      "execution_count": null,
      "outputs": []
    },
    {
      "cell_type": "code",
      "metadata": {
        "id": "d_BY_7b2x11w"
      },
      "source": [
        "def load_dataset():\n",
        "  X = []\n",
        "  y = []\n",
        "  i = 0\n",
        "  for folder in os.listdir('/content/drive/MyDrive/folio/'):\n",
        "    os.chdir('/content/drive/MyDrive/folio/' + folder)\n",
        "    file_name = os.listdir()\n",
        "    for f in file_name:\n",
        "      img = cv2.imread(f, 0)\n",
        "      X.append(img)\n",
        "      y.append(i)\n",
        "    i += 1\n",
        "  return X, y"
      ],
      "execution_count": null,
      "outputs": []
    },
    {
      "cell_type": "code",
      "metadata": {
        "id": "s2nJyAmPvWD9"
      },
      "source": [
        "def resize(img):\n",
        "  SCALE = 0.1\n",
        "  return cv2.resize(img, (int(img.shape[1] * SCALE), int(img.shape[0] * SCALE)))"
      ],
      "execution_count": null,
      "outputs": []
    },
    {
      "cell_type": "code",
      "metadata": {
        "id": "gZqh1KD4OnLl"
      },
      "source": [
        "def convert_to_1D(img):\n",
        "  return np.reshape(img,img.shape[0] * img.shape[1])"
      ],
      "execution_count": null,
      "outputs": []
    },
    {
      "cell_type": "code",
      "metadata": {
        "id": "s8bi42SWOIC3"
      },
      "source": [
        "# load data\n",
        "X, y = load_dataset()\n",
        "\n",
        "# resize image\n",
        "for i, img in enumerate(X):\n",
        "  X[i] = resize(img)\n",
        "\n",
        "# convert to array\n",
        "X = np.array(X)\n",
        "y = np.array(y)\n",
        "X_train, X_test, y_train, y_test = train_test_split(X, y, test_size=0.3, random_state=1)"
      ],
      "execution_count": null,
      "outputs": []
    },
    {
      "cell_type": "code",
      "metadata": {
        "id": "KxO6QKmHPFZp"
      },
      "source": [
        "X_train_new = []\n",
        "for x in X_train:\n",
        "  X_train_new.append(convert_to_1D(x))"
      ],
      "execution_count": null,
      "outputs": []
    },
    {
      "cell_type": "code",
      "metadata": {
        "id": "BszMep8eO0Ku"
      },
      "source": [
        "X_test_new = []\n",
        "for x in X_test:\n",
        "  X_test_new.append(convert_to_1D(x))"
      ],
      "execution_count": null,
      "outputs": []
    },
    {
      "cell_type": "code",
      "metadata": {
        "colab": {
          "base_uri": "https://localhost:8080/"
        },
        "id": "dUWSK4MQQg-Z",
        "outputId": "b8356206-14ad-4133-d909-f2aa12042634"
      },
      "source": [
        "model = LogisticRegression(max_iter=10000, random_state=1, n_jobs=2)\n",
        "model.fit(X_train_new, y_train)\n",
        "\n",
        "y_pred = model.predict(X_test_new)\n",
        "\n",
        "print(\"ACCURACY: \", accuracy_score(y_test, y_pred))\n",
        "print(classification_report(y_test, y_pred))"
      ],
      "execution_count": null,
      "outputs": [
        {
          "output_type": "stream",
          "name": "stdout",
          "text": [
            "ACCURACY:  0.8666666666666667\n",
            "              precision    recall  f1-score   support\n",
            "\n",
            "           0       0.71      0.83      0.77         6\n",
            "           1       0.86      0.67      0.75         9\n",
            "           2       1.00      1.00      1.00         8\n",
            "           3       0.50      0.67      0.57         3\n",
            "           4       0.83      1.00      0.91         5\n",
            "           5       1.00      0.86      0.92         7\n",
            "           6       0.83      1.00      0.91         5\n",
            "           7       1.00      0.75      0.86         4\n",
            "           8       0.89      1.00      0.94         8\n",
            "           9       1.00      0.80      0.89         5\n",
            "\n",
            "    accuracy                           0.87        60\n",
            "   macro avg       0.86      0.86      0.85        60\n",
            "weighted avg       0.88      0.87      0.87        60\n",
            "\n"
          ]
        }
      ]
    },
    {
      "cell_type": "code",
      "metadata": {
        "id": "fkD9gLBRRNc2"
      },
      "source": [
        "def calculate_hog(img):\n",
        "  return hog(img, orientations=9, pixels_per_cell=(16,16), cells_per_block=(2,2), block_norm='L2')"
      ],
      "execution_count": null,
      "outputs": []
    },
    {
      "cell_type": "code",
      "metadata": {
        "id": "TbIewOVoRuiU"
      },
      "source": [
        "X_train_new_hog = []\n",
        "for x in X_train:\n",
        "  X_train_new_hog.append(calculate_hog(x))"
      ],
      "execution_count": null,
      "outputs": []
    },
    {
      "cell_type": "code",
      "metadata": {
        "id": "5v2QrTk9R2QB"
      },
      "source": [
        "X_test_new_hog = []\n",
        "for x in X_test:\n",
        "  X_test_new_hog.append(calculate_hog(x))"
      ],
      "execution_count": null,
      "outputs": []
    },
    {
      "cell_type": "code",
      "metadata": {
        "colab": {
          "base_uri": "https://localhost:8080/"
        },
        "id": "t8S6Eu34R6cv",
        "outputId": "7d2dbe9c-bb22-40e0-a233-62d10b6cca7c"
      },
      "source": [
        "model = LogisticRegression(max_iter=10000, random_state=1, n_jobs=2)\n",
        "model.fit(X_train_new_hog, y_train)\n",
        "\n",
        "y_pred_hog = model.predict(X_test_new_hog)\n",
        "\n",
        "print(\"ACCURACY: \", accuracy_score(y_test, y_pred_hog))\n",
        "print(classification_report(y_test, y_pred_hog))"
      ],
      "execution_count": null,
      "outputs": [
        {
          "output_type": "stream",
          "name": "stdout",
          "text": [
            "ACCURACY:  0.9166666666666666\n",
            "              precision    recall  f1-score   support\n",
            "\n",
            "           0       1.00      0.83      0.91         6\n",
            "           1       0.73      0.89      0.80         9\n",
            "           2       0.88      0.88      0.88         8\n",
            "           3       1.00      0.67      0.80         3\n",
            "           4       1.00      1.00      1.00         5\n",
            "           5       1.00      0.86      0.92         7\n",
            "           6       1.00      1.00      1.00         5\n",
            "           7       1.00      1.00      1.00         4\n",
            "           8       0.89      1.00      0.94         8\n",
            "           9       1.00      1.00      1.00         5\n",
            "\n",
            "    accuracy                           0.92        60\n",
            "   macro avg       0.95      0.91      0.92        60\n",
            "weighted avg       0.93      0.92      0.92        60\n",
            "\n"
          ]
        }
      ]
    },
    {
      "cell_type": "code",
      "metadata": {
        "id": "zsKB-tfrR_j5"
      },
      "source": [
        ""
      ],
      "execution_count": null,
      "outputs": []
    }
  ]
}