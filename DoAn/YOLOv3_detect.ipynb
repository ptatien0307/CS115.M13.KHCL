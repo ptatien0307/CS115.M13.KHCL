{
  "nbformat": 4,
  "nbformat_minor": 0,
  "metadata": {
    "colab": {
      "name": "YOLOv3_detect.ipynb",
      "provenance": [],
      "collapsed_sections": [],
      "private_outputs": true,
      "include_colab_link": true
    },
    "kernelspec": {
      "name": "python3",
      "display_name": "Python 3"
    },
    "accelerator": "GPU"
  },
  "cells": [
    {
      "cell_type": "markdown",
      "metadata": {
        "id": "view-in-github",
        "colab_type": "text"
      },
      "source": [
        "<a href=\"https://colab.research.google.com/github/Zrmikstri/CS115-YOLOv3/blob/main/YOLOv3_detect.ipynb\" target=\"_parent\"><img src=\"https://colab.research.google.com/assets/colab-badge.svg\" alt=\"Open In Colab\"/></a>"
      ]
    },
    {
      "cell_type": "markdown",
      "source": [
        "# YOLOv3 CS115.M13\n",
        "\n",
        "Thành viên nhóm bao gồm:\n",
        "\n",
        "\n",
        "*   Đào Trần Anh Tuấn     (20522107)\n",
        "*   Phạm Trần Anh Tiên    (20522012)\n",
        "*   Trần Phú Vinh         (20522161)\n",
        "\n",
        "Giảng viên: Lương Ngọc Hoàng"
      ],
      "metadata": {
        "id": "bzWGoIt-2uDG"
      }
    },
    {
      "cell_type": "markdown",
      "metadata": {
        "id": "7mGmQbAO5pQb"
      },
      "source": [
        "# Cài đặt\n",
        "\n",
        "Tụi em sử dụng phiên bản YOLOv3 của ultralytic cho việc phân loại trên hình ảnh và video."
      ]
    },
    {
      "cell_type": "code",
      "metadata": {
        "id": "wbvMlHd_QwMG"
      },
      "source": [
        "!git clone https://github.com/ultralytics/yolov3  # clone\n",
        "!git clone 'https://github.com/Zrmikstri/CS115-YOLOv3.git' #để lấy cái file demo của nhóm em\n",
        "%cd yolov3\n",
        "%pip install -qr requirements.txt  # install\n",
        "\n",
        "import torch\n",
        "from yolov3 import utils\n",
        "display = utils.notebook_init()  # checks"
      ],
      "execution_count": null,
      "outputs": []
    },
    {
      "cell_type": "markdown",
      "metadata": {
        "id": "4JnkELT0cIJg"
      },
      "source": [
        "# Giới thiệu\n",
        "\n",
        "Ta có thể dùng file `detect.py` để chạy mô hình trên nhiều nguồn khác nhau. Kết quả được lưu vào `runs/detect`.\n",
        "\n",
        "Một số nguồn có thể sử dụng như:\n",
        "\n",
        "```shell\n",
        "python detect.py --source 0  # webcam\n",
        "                          img.jpg  # image \n",
        "                          vid.mp4  # video\n",
        "                          path/  # directory\n",
        "                          path/*.jpg  # glob\n",
        "                          'https://youtu.be/Zgi9g1ksQHc'  # YouTube\n",
        "                          'rtsp://example.com/media.mp4'  # RTSP, RTMP, HTTP stream\n",
        "```"
      ]
    },
    {
      "cell_type": "markdown",
      "source": [
        "Ngoài ra, ta còn thể truyền vào nhiều parameter khác nhau để có thể dễ dàng trực quan hóa kết quả.\n",
        "\n",
        "```shell\n",
        "        --imgsz 640 #kích thước input\n",
        "        --conf-thres 0.25,  # ngưỡng giá trị confidence\n",
        "        --iou-thres 0.45,  # ngưỡng giá trị NMS IOU \n",
        "        --max-det 1000,  # số detection của mỗi bức ảnh\n",
        "\n",
        "        --visualize False,  # trực quan hóa kết quả khi mô hình thực hiện các bước dự đoán\n",
        "        --line-thickness 3,  # độ dày của viền bounding box\n",
        "        --hide-labels False,  # ẩn label\n",
        "        --hide-conf  # ẩn confidence\n",
        "\n",
        "```"
      ],
      "metadata": {
        "id": "EDUbi6FK6OHz"
      }
    },
    {
      "cell_type": "code",
      "metadata": {
        "id": "zR9ZbuQCH7FX"
      },
      "source": [
        "!python detect.py --weights yolov3.pt --img 640 --conf 0.25 --source data/images --hide-conf \n",
        "display.Image(filename='runs/detect/exp/zidane.jpg', width=600)"
      ],
      "execution_count": null,
      "outputs": []
    },
    {
      "cell_type": "code",
      "source": [
        "#đây là lệnh tụi em dùng yolov3 cho video demo trong slide\n",
        "!python detect.py --weights yolov3.pt --img 640 --conf 0.05 --line-thickness 1  --hide-conf  --source /content/CS115-YOLOv3/Demo.mp4  "
      ],
      "metadata": {
        "id": "YjiwZGLj-fiT"
      },
      "execution_count": null,
      "outputs": []
    },
    {
      "cell_type": "code",
      "source": [
        "#đây là lệnh tụi em dùng yolov3 cho video trình bày slide\n",
        "!python detect.py --weights yolov3.pt --img 640 --conf 0.7 --line-thickness 2 --classes 0 --source /content/drive/MyDrive/true_cs115.mp4"
      ],
      "metadata": {
        "id": "k6UJDUFtH8ke"
      },
      "execution_count": null,
      "outputs": []
    },
    {
      "cell_type": "code",
      "source": [
        "from IPython.display import HTML\n",
        "from base64 import b64encode\n",
        "import os\n",
        "\n",
        "# Đường dẫn cho video kết quả\n",
        "save_path = \"/content/yolov3/runs/detect/exp2/Demo.mp4\"\n",
        "\n",
        "# Đường dẫn của video được nén lại\n",
        "compressed_path = \"/content/result_compressed.mp4\"\n",
        "\n",
        "os.system(f\"ffmpeg -i {save_path} -vcodec libx264 {compressed_path}\")\n",
        "\n",
        "# Hiện video\n",
        "mp4 = open(compressed_path,'rb').read()\n",
        "data_url = \"data:video/mp4;base64,\" + b64encode(mp4).decode()\n",
        "HTML(\"\"\"\n",
        "<video width=600 controls>\n",
        "      <source src=\"%s\" type=\"video/mp4\">\n",
        "</video>\n",
        "\"\"\" % data_url)\n"
      ],
      "metadata": {
        "id": "QviQsWk_CT7L"
      },
      "execution_count": null,
      "outputs": []
    }
  ]
}
